{
 "cells": [
  {
   "cell_type": "markdown",
   "metadata": {},
   "source": [
    "# Analyzing Ride Patterns and Weather Impact for Zuber's Chicago Launch\n",
    "This project aims to analyze taxi ride data in Chicago, focusing on the impact of weather conditions on the duration of taxi rides from the Loop to O'Hare International Airport. The project involves parsing weather data, conducting exploratory data analysis, and testing a hypothesis regarding the effect of weather on ride durations. The dataset includes information on neighborhoods, cabs, trips, and weather records."
   ]
  },
  {
   "cell_type": "code",
   "execution_count": 1,
   "metadata": {},
   "outputs": [],
   "source": [
    "# Import necessary libraries\n",
    "import pandas as pd\n",
    "from scipy.stats import ttest_ind\n",
    "import matplotlib.pyplot as plt\n",
    "from scipy import stats\n",
    "import requests\n",
    "from bs4 import BeautifulSoup"
   ]
  },
  {
   "cell_type": "code",
   "execution_count": 2,
   "metadata": {},
   "outputs": [
    {
     "name": "stdout",
     "output_type": "stream",
     "text": [
      "Duplicates in project_sql_result_01: 0\n",
      "Duplicates in project_sql_result_04: 0\n",
      "Duplicates in project_sql_result_07: 197\n"
     ]
    }
   ],
   "source": [
    "# Load the CSV files into DataFrames\n",
    "project_sql_result_01 = pd.read_csv('/datasets/project_sql_result_01.csv')\n",
    "project_sql_result_04 = pd.read_csv('/datasets/project_sql_result_04.csv')\n",
    "project_sql_result_07 = pd.read_csv('/datasets/project_sql_result_07.csv')\n",
    "\n",
    "# Check for duplicates in each DataFrame\n",
    "duplicates_01 = project_sql_result_01.duplicated().sum()\n",
    "duplicates_04 = project_sql_result_04.duplicated().sum()\n",
    "duplicates_07 = project_sql_result_07.duplicated().sum()\n",
    "\n",
    "print(f\"Duplicates in project_sql_result_01: {duplicates_01}\")\n",
    "print(f\"Duplicates in project_sql_result_04: {duplicates_04}\")\n",
    "print(f\"Duplicates in project_sql_result_07: {duplicates_07}\")\n",
    "\n",
    "# Remove duplicates if any\n",
    "project_sql_result_01 = project_sql_result_01.drop_duplicates()\n",
    "project_sql_result_04 = project_sql_result_04.drop_duplicates()\n",
    "project_sql_result_07 = project_sql_result_07.drop_duplicates()"
   ]
  },
  {
   "cell_type": "code",
   "execution_count": 3,
   "metadata": {},
   "outputs": [
    {
     "name": "stdout",
     "output_type": "stream",
     "text": [
      "Project SQL Result 01:\n"
     ]
    },
    {
     "data": {
      "text/html": [
       "<div>\n",
       "<style scoped>\n",
       "    .dataframe tbody tr th:only-of-type {\n",
       "        vertical-align: middle;\n",
       "    }\n",
       "\n",
       "    .dataframe tbody tr th {\n",
       "        vertical-align: top;\n",
       "    }\n",
       "\n",
       "    .dataframe thead th {\n",
       "        text-align: right;\n",
       "    }\n",
       "</style>\n",
       "<table border=\"1\" class=\"dataframe\">\n",
       "  <thead>\n",
       "    <tr style=\"text-align: right;\">\n",
       "      <th></th>\n",
       "      <th>company_name</th>\n",
       "      <th>trips_amount</th>\n",
       "    </tr>\n",
       "  </thead>\n",
       "  <tbody>\n",
       "    <tr>\n",
       "      <th>0</th>\n",
       "      <td>Flash Cab</td>\n",
       "      <td>19558</td>\n",
       "    </tr>\n",
       "    <tr>\n",
       "      <th>1</th>\n",
       "      <td>Taxi Affiliation Services</td>\n",
       "      <td>11422</td>\n",
       "    </tr>\n",
       "    <tr>\n",
       "      <th>2</th>\n",
       "      <td>Medallion Leasing</td>\n",
       "      <td>10367</td>\n",
       "    </tr>\n",
       "    <tr>\n",
       "      <th>3</th>\n",
       "      <td>Yellow Cab</td>\n",
       "      <td>9888</td>\n",
       "    </tr>\n",
       "    <tr>\n",
       "      <th>4</th>\n",
       "      <td>Taxi Affiliation Service Yellow</td>\n",
       "      <td>9299</td>\n",
       "    </tr>\n",
       "  </tbody>\n",
       "</table>\n",
       "</div>"
      ],
      "text/plain": [
       "                      company_name  trips_amount\n",
       "0                        Flash Cab         19558\n",
       "1        Taxi Affiliation Services         11422\n",
       "2                Medallion Leasing         10367\n",
       "3                       Yellow Cab          9888\n",
       "4  Taxi Affiliation Service Yellow          9299"
      ]
     },
     "metadata": {},
     "output_type": "display_data"
    },
    {
     "name": "stdout",
     "output_type": "stream",
     "text": [
      "\n",
      "Project SQL Result 04:\n"
     ]
    },
    {
     "data": {
      "text/html": [
       "<div>\n",
       "<style scoped>\n",
       "    .dataframe tbody tr th:only-of-type {\n",
       "        vertical-align: middle;\n",
       "    }\n",
       "\n",
       "    .dataframe tbody tr th {\n",
       "        vertical-align: top;\n",
       "    }\n",
       "\n",
       "    .dataframe thead th {\n",
       "        text-align: right;\n",
       "    }\n",
       "</style>\n",
       "<table border=\"1\" class=\"dataframe\">\n",
       "  <thead>\n",
       "    <tr style=\"text-align: right;\">\n",
       "      <th></th>\n",
       "      <th>dropoff_location_name</th>\n",
       "      <th>average_trips</th>\n",
       "    </tr>\n",
       "  </thead>\n",
       "  <tbody>\n",
       "    <tr>\n",
       "      <th>0</th>\n",
       "      <td>Loop</td>\n",
       "      <td>10727.466667</td>\n",
       "    </tr>\n",
       "    <tr>\n",
       "      <th>1</th>\n",
       "      <td>River North</td>\n",
       "      <td>9523.666667</td>\n",
       "    </tr>\n",
       "    <tr>\n",
       "      <th>2</th>\n",
       "      <td>Streeterville</td>\n",
       "      <td>6664.666667</td>\n",
       "    </tr>\n",
       "    <tr>\n",
       "      <th>3</th>\n",
       "      <td>West Loop</td>\n",
       "      <td>5163.666667</td>\n",
       "    </tr>\n",
       "    <tr>\n",
       "      <th>4</th>\n",
       "      <td>O'Hare</td>\n",
       "      <td>2546.900000</td>\n",
       "    </tr>\n",
       "  </tbody>\n",
       "</table>\n",
       "</div>"
      ],
      "text/plain": [
       "  dropoff_location_name  average_trips\n",
       "0                  Loop   10727.466667\n",
       "1           River North    9523.666667\n",
       "2         Streeterville    6664.666667\n",
       "3             West Loop    5163.666667\n",
       "4                O'Hare    2546.900000"
      ]
     },
     "metadata": {},
     "output_type": "display_data"
    },
    {
     "name": "stdout",
     "output_type": "stream",
     "text": [
      "\n",
      "Project SQL Result 07:\n"
     ]
    },
    {
     "data": {
      "text/html": [
       "<div>\n",
       "<style scoped>\n",
       "    .dataframe tbody tr th:only-of-type {\n",
       "        vertical-align: middle;\n",
       "    }\n",
       "\n",
       "    .dataframe tbody tr th {\n",
       "        vertical-align: top;\n",
       "    }\n",
       "\n",
       "    .dataframe thead th {\n",
       "        text-align: right;\n",
       "    }\n",
       "</style>\n",
       "<table border=\"1\" class=\"dataframe\">\n",
       "  <thead>\n",
       "    <tr style=\"text-align: right;\">\n",
       "      <th></th>\n",
       "      <th>start_ts</th>\n",
       "      <th>weather_conditions</th>\n",
       "      <th>duration_seconds</th>\n",
       "    </tr>\n",
       "  </thead>\n",
       "  <tbody>\n",
       "    <tr>\n",
       "      <th>0</th>\n",
       "      <td>2017-11-25 16:00:00</td>\n",
       "      <td>Good</td>\n",
       "      <td>2410.0</td>\n",
       "    </tr>\n",
       "    <tr>\n",
       "      <th>1</th>\n",
       "      <td>2017-11-25 14:00:00</td>\n",
       "      <td>Good</td>\n",
       "      <td>1920.0</td>\n",
       "    </tr>\n",
       "    <tr>\n",
       "      <th>2</th>\n",
       "      <td>2017-11-25 12:00:00</td>\n",
       "      <td>Good</td>\n",
       "      <td>1543.0</td>\n",
       "    </tr>\n",
       "    <tr>\n",
       "      <th>3</th>\n",
       "      <td>2017-11-04 10:00:00</td>\n",
       "      <td>Good</td>\n",
       "      <td>2512.0</td>\n",
       "    </tr>\n",
       "    <tr>\n",
       "      <th>4</th>\n",
       "      <td>2017-11-11 07:00:00</td>\n",
       "      <td>Good</td>\n",
       "      <td>1440.0</td>\n",
       "    </tr>\n",
       "  </tbody>\n",
       "</table>\n",
       "</div>"
      ],
      "text/plain": [
       "              start_ts weather_conditions  duration_seconds\n",
       "0  2017-11-25 16:00:00               Good            2410.0\n",
       "1  2017-11-25 14:00:00               Good            1920.0\n",
       "2  2017-11-25 12:00:00               Good            1543.0\n",
       "3  2017-11-04 10:00:00               Good            2512.0\n",
       "4  2017-11-11 07:00:00               Good            1440.0"
      ]
     },
     "metadata": {},
     "output_type": "display_data"
    },
    {
     "name": "stdout",
     "output_type": "stream",
     "text": [
      "\n",
      "Project SQL Result 01 Info:\n",
      "<class 'pandas.core.frame.DataFrame'>\n",
      "Int64Index: 64 entries, 0 to 63\n",
      "Data columns (total 2 columns):\n",
      " #   Column        Non-Null Count  Dtype \n",
      "---  ------        --------------  ----- \n",
      " 0   company_name  64 non-null     object\n",
      " 1   trips_amount  64 non-null     int64 \n",
      "dtypes: int64(1), object(1)\n",
      "memory usage: 1.5+ KB\n"
     ]
    },
    {
     "data": {
      "text/plain": [
       "None"
      ]
     },
     "metadata": {},
     "output_type": "display_data"
    },
    {
     "name": "stdout",
     "output_type": "stream",
     "text": [
      "\n",
      "Project SQL Result 04 Info:\n",
      "<class 'pandas.core.frame.DataFrame'>\n",
      "Int64Index: 94 entries, 0 to 93\n",
      "Data columns (total 2 columns):\n",
      " #   Column                 Non-Null Count  Dtype  \n",
      "---  ------                 --------------  -----  \n",
      " 0   dropoff_location_name  94 non-null     object \n",
      " 1   average_trips          94 non-null     float64\n",
      "dtypes: float64(1), object(1)\n",
      "memory usage: 2.2+ KB\n"
     ]
    },
    {
     "data": {
      "text/plain": [
       "None"
      ]
     },
     "metadata": {},
     "output_type": "display_data"
    },
    {
     "name": "stdout",
     "output_type": "stream",
     "text": [
      "\n",
      "Project SQL Result 07 Info:\n",
      "<class 'pandas.core.frame.DataFrame'>\n",
      "Int64Index: 871 entries, 0 to 1067\n",
      "Data columns (total 3 columns):\n",
      " #   Column              Non-Null Count  Dtype  \n",
      "---  ------              --------------  -----  \n",
      " 0   start_ts            871 non-null    object \n",
      " 1   weather_conditions  871 non-null    object \n",
      " 2   duration_seconds    871 non-null    float64\n",
      "dtypes: float64(1), object(2)\n",
      "memory usage: 27.2+ KB\n"
     ]
    },
    {
     "data": {
      "text/plain": [
       "None"
      ]
     },
     "metadata": {},
     "output_type": "display_data"
    }
   ],
   "source": [
    "# Display the first few rows of each DataFrame to inspect the data\n",
    "print(\"Project SQL Result 01:\")\n",
    "display(project_sql_result_01.head())\n",
    "\n",
    "print(\"\\nProject SQL Result 04:\")\n",
    "display(project_sql_result_04.head())\n",
    "\n",
    "print(\"\\nProject SQL Result 07:\")\n",
    "display(project_sql_result_07.head())\n",
    "\n",
    "# Display basic information about each DataFrame\n",
    "print(\"\\nProject SQL Result 01 Info:\")\n",
    "display(project_sql_result_01.info())\n",
    "\n",
    "print(\"\\nProject SQL Result 04 Info:\")\n",
    "display(project_sql_result_04.info())\n",
    "\n",
    "print(\"\\nProject SQL Result 07 Info:\")\n",
    "display(project_sql_result_07.info())"
   ]
  },
  {
   "cell_type": "markdown",
   "metadata": {},
   "source": [
    "## Step 1: Parse the Data on Weather in Chicago in November 2017\n",
    "First, we parse the weather data from the provided webpage. The weather data includes date, temperature, and a description of the weather conditions."
   ]
  },
  {
   "cell_type": "code",
   "execution_count": 4,
   "metadata": {
    "scrolled": false
   },
   "outputs": [
    {
     "name": "stdout",
     "output_type": "stream",
     "text": [
      "Weather Records DataFrame:\n"
     ]
    },
    {
     "data": {
      "text/html": [
       "<div>\n",
       "<style scoped>\n",
       "    .dataframe tbody tr th:only-of-type {\n",
       "        vertical-align: middle;\n",
       "    }\n",
       "\n",
       "    .dataframe tbody tr th {\n",
       "        vertical-align: top;\n",
       "    }\n",
       "\n",
       "    .dataframe thead th {\n",
       "        text-align: right;\n",
       "    }\n",
       "</style>\n",
       "<table border=\"1\" class=\"dataframe\">\n",
       "  <thead>\n",
       "    <tr style=\"text-align: right;\">\n",
       "      <th></th>\n",
       "      <th>ts</th>\n",
       "      <th>temperature</th>\n",
       "      <th>description</th>\n",
       "    </tr>\n",
       "  </thead>\n",
       "  <tbody>\n",
       "    <tr>\n",
       "      <th>0</th>\n",
       "      <td>2017-11-01 00:00:00</td>\n",
       "      <td>276.150</td>\n",
       "      <td>broken clouds</td>\n",
       "    </tr>\n",
       "    <tr>\n",
       "      <th>1</th>\n",
       "      <td>2017-11-01 01:00:00</td>\n",
       "      <td>275.700</td>\n",
       "      <td>scattered clouds</td>\n",
       "    </tr>\n",
       "    <tr>\n",
       "      <th>2</th>\n",
       "      <td>2017-11-01 02:00:00</td>\n",
       "      <td>275.610</td>\n",
       "      <td>overcast clouds</td>\n",
       "    </tr>\n",
       "    <tr>\n",
       "      <th>3</th>\n",
       "      <td>2017-11-01 03:00:00</td>\n",
       "      <td>275.350</td>\n",
       "      <td>broken clouds</td>\n",
       "    </tr>\n",
       "    <tr>\n",
       "      <th>4</th>\n",
       "      <td>2017-11-01 04:00:00</td>\n",
       "      <td>275.240</td>\n",
       "      <td>broken clouds</td>\n",
       "    </tr>\n",
       "    <tr>\n",
       "      <th>...</th>\n",
       "      <td>...</td>\n",
       "      <td>...</td>\n",
       "      <td>...</td>\n",
       "    </tr>\n",
       "    <tr>\n",
       "      <th>692</th>\n",
       "      <td>2017-11-29 20:00:00</td>\n",
       "      <td>281.340</td>\n",
       "      <td>few clouds</td>\n",
       "    </tr>\n",
       "    <tr>\n",
       "      <th>693</th>\n",
       "      <td>2017-11-29 21:00:00</td>\n",
       "      <td>281.690</td>\n",
       "      <td>sky is clear</td>\n",
       "    </tr>\n",
       "    <tr>\n",
       "      <th>694</th>\n",
       "      <td>2017-11-29 22:00:00</td>\n",
       "      <td>281.070</td>\n",
       "      <td>few clouds</td>\n",
       "    </tr>\n",
       "    <tr>\n",
       "      <th>695</th>\n",
       "      <td>2017-11-29 23:00:00</td>\n",
       "      <td>280.060</td>\n",
       "      <td>sky is clear</td>\n",
       "    </tr>\n",
       "    <tr>\n",
       "      <th>696</th>\n",
       "      <td>2017-11-30 00:00:00</td>\n",
       "      <td>278.460</td>\n",
       "      <td>sky is clear</td>\n",
       "    </tr>\n",
       "  </tbody>\n",
       "</table>\n",
       "<p>697 rows × 3 columns</p>\n",
       "</div>"
      ],
      "text/plain": [
       "                     ts temperature       description\n",
       "0   2017-11-01 00:00:00     276.150     broken clouds\n",
       "1   2017-11-01 01:00:00     275.700  scattered clouds\n",
       "2   2017-11-01 02:00:00     275.610   overcast clouds\n",
       "3   2017-11-01 03:00:00     275.350     broken clouds\n",
       "4   2017-11-01 04:00:00     275.240     broken clouds\n",
       "..                  ...         ...               ...\n",
       "692 2017-11-29 20:00:00     281.340        few clouds\n",
       "693 2017-11-29 21:00:00     281.690      sky is clear\n",
       "694 2017-11-29 22:00:00     281.070        few clouds\n",
       "695 2017-11-29 23:00:00     280.060      sky is clear\n",
       "696 2017-11-30 00:00:00     278.460      sky is clear\n",
       "\n",
       "[697 rows x 3 columns]"
      ]
     },
     "metadata": {},
     "output_type": "display_data"
    }
   ],
   "source": [
    "# URL of the webpage containing weather data\n",
    "URL = 'https://practicum-content.s3.us-west-1.amazonaws.com/data-analyst-eng/moved_chicago_weather_2017.html'\n",
    "\n",
    "# Send a request to the webpage\n",
    "req = requests.get(URL)\n",
    "soup = BeautifulSoup(req.text, 'lxml')\n",
    "\n",
    "# Find the table containing the weather data\n",
    "table = soup.find('table', attrs={\"id\": \"weather_records\"})\n",
    "\n",
    "# Extract headings\n",
    "heading_table = []\n",
    "for row in table.find_all('th'):\n",
    "    heading_table.append(row.text)\n",
    "\n",
    "# Extract content\n",
    "content = []\n",
    "for row in table.find_all('tr'):\n",
    "    if not row.find_all('th'):\n",
    "        content.append([element.text for element in row.find_all('td')])\n",
    "\n",
    "# Create DataFrame\n",
    "weather_records = pd.DataFrame(content, columns=heading_table)\n",
    "\n",
    "# Rename the columns\n",
    "weather_records.columns = ['ts', 'temperature', 'description']\n",
    "\n",
    "# Convert ts to datetime\n",
    "weather_records['ts'] = pd.to_datetime(weather_records['ts'])\n",
    "\n",
    "# Display the DataFrame\n",
    "print(\"Weather Records DataFrame:\")\n",
    "display(weather_records)"
   ]
  },
  {
   "cell_type": "markdown",
   "metadata": {},
   "source": [
    "## Step 4. Exploratory data analysis (Python)\n",
    "- Makes sure the data types are correct and convert them if necessary.\n",
    "- Identifies the top 10 neighborhoods based on the average number of drop-offs.\n",
    "- Generates the required graphs along with conclusions based on the visualizations."
   ]
  },
  {
   "cell_type": "code",
   "execution_count": 5,
   "metadata": {},
   "outputs": [
    {
     "name": "stdout",
     "output_type": "stream",
     "text": [
      "Data Types After Conversion:\n"
     ]
    },
    {
     "data": {
      "text/plain": [
       "company_name    object\n",
       "trips_amount     int64\n",
       "dtype: object"
      ]
     },
     "metadata": {},
     "output_type": "display_data"
    },
    {
     "data": {
      "text/plain": [
       "dropoff_location_name     object\n",
       "average_trips            float64\n",
       "dtype: object"
      ]
     },
     "metadata": {},
     "output_type": "display_data"
    },
    {
     "data": {
      "text/plain": [
       "start_ts               object\n",
       "weather_conditions     object\n",
       "duration_seconds      float64\n",
       "dtype: object"
      ]
     },
     "metadata": {},
     "output_type": "display_data"
    }
   ],
   "source": [
    "# Ensure the data types are correct\n",
    "project_sql_result_01['trips_amount'] = project_sql_result_01['trips_amount'].astype(int)\n",
    "project_sql_result_04['average_trips'] = project_sql_result_04['average_trips'].astype(float)\n",
    "project_sql_result_07['duration_seconds'] = project_sql_result_07['duration_seconds'].astype(float)\n",
    "project_sql_result_07['weather_conditions'] = project_sql_result_07['weather_conditions'].astype(str)\n",
    "\n",
    "# Verify the changes\n",
    "print(\"Data Types After Conversion:\")\n",
    "display(project_sql_result_01.dtypes)\n",
    "display(project_sql_result_04.dtypes)\n",
    "display(project_sql_result_07.dtypes)"
   ]
  },
  {
   "cell_type": "markdown",
   "metadata": {},
   "source": [
    "### Identify the Top 10 Neighborhoods in Terms of Drop-offs"
   ]
  },
  {
   "cell_type": "code",
   "execution_count": 6,
   "metadata": {},
   "outputs": [
    {
     "name": "stdout",
     "output_type": "stream",
     "text": [
      "Top 10 Neighborhoods by Average Number of Drop-offs:\n"
     ]
    },
    {
     "data": {
      "text/html": [
       "<div>\n",
       "<style scoped>\n",
       "    .dataframe tbody tr th:only-of-type {\n",
       "        vertical-align: middle;\n",
       "    }\n",
       "\n",
       "    .dataframe tbody tr th {\n",
       "        vertical-align: top;\n",
       "    }\n",
       "\n",
       "    .dataframe thead th {\n",
       "        text-align: right;\n",
       "    }\n",
       "</style>\n",
       "<table border=\"1\" class=\"dataframe\">\n",
       "  <thead>\n",
       "    <tr style=\"text-align: right;\">\n",
       "      <th></th>\n",
       "      <th>dropoff_location_name</th>\n",
       "      <th>average_trips</th>\n",
       "    </tr>\n",
       "  </thead>\n",
       "  <tbody>\n",
       "    <tr>\n",
       "      <th>0</th>\n",
       "      <td>Loop</td>\n",
       "      <td>10727.466667</td>\n",
       "    </tr>\n",
       "    <tr>\n",
       "      <th>1</th>\n",
       "      <td>River North</td>\n",
       "      <td>9523.666667</td>\n",
       "    </tr>\n",
       "    <tr>\n",
       "      <th>2</th>\n",
       "      <td>Streeterville</td>\n",
       "      <td>6664.666667</td>\n",
       "    </tr>\n",
       "    <tr>\n",
       "      <th>3</th>\n",
       "      <td>West Loop</td>\n",
       "      <td>5163.666667</td>\n",
       "    </tr>\n",
       "    <tr>\n",
       "      <th>4</th>\n",
       "      <td>O'Hare</td>\n",
       "      <td>2546.900000</td>\n",
       "    </tr>\n",
       "    <tr>\n",
       "      <th>5</th>\n",
       "      <td>Lake View</td>\n",
       "      <td>2420.966667</td>\n",
       "    </tr>\n",
       "    <tr>\n",
       "      <th>6</th>\n",
       "      <td>Grant Park</td>\n",
       "      <td>2068.533333</td>\n",
       "    </tr>\n",
       "    <tr>\n",
       "      <th>7</th>\n",
       "      <td>Museum Campus</td>\n",
       "      <td>1510.000000</td>\n",
       "    </tr>\n",
       "    <tr>\n",
       "      <th>8</th>\n",
       "      <td>Gold Coast</td>\n",
       "      <td>1364.233333</td>\n",
       "    </tr>\n",
       "    <tr>\n",
       "      <th>9</th>\n",
       "      <td>Sheffield &amp; DePaul</td>\n",
       "      <td>1259.766667</td>\n",
       "    </tr>\n",
       "  </tbody>\n",
       "</table>\n",
       "</div>"
      ],
      "text/plain": [
       "  dropoff_location_name  average_trips\n",
       "0                  Loop   10727.466667\n",
       "1           River North    9523.666667\n",
       "2         Streeterville    6664.666667\n",
       "3             West Loop    5163.666667\n",
       "4                O'Hare    2546.900000\n",
       "5             Lake View    2420.966667\n",
       "6            Grant Park    2068.533333\n",
       "7         Museum Campus    1510.000000\n",
       "8            Gold Coast    1364.233333\n",
       "9    Sheffield & DePaul    1259.766667"
      ]
     },
     "metadata": {},
     "output_type": "display_data"
    }
   ],
   "source": [
    "# Identify top 10 neighborhoods by average number of drop offs\n",
    "top_10_neighborhoods = project_sql_result_04.nlargest(10, 'average_trips')\n",
    "\n",
    "print(\"Top 10 Neighborhoods by Average Number of Drop-offs:\")\n",
    "display(top_10_neighborhoods)"
   ]
  },
  {
   "cell_type": "code",
   "execution_count": 7,
   "metadata": {},
   "outputs": [
    {
     "data": {
      "image/png": "[encoded data removed]",
      "text/plain": [
       "<Figure size 1200x600 with 1 Axes>"
      ]
     },
     "metadata": {},
     "output_type": "display_data"
    }
   ],
   "source": [
    "# Plot taxi companies and number of rides\n",
    "plt.figure(figsize=(12, 6))\n",
    "plt.bar(project_sql_result_01['company_name'], project_sql_result_01['trips_amount'], color='skyblue')\n",
    "plt.xlabel('Taxi Company')\n",
    "plt.ylabel('Number of Rides')\n",
    "plt.title('Number of Rides for Each Taxi Company on November 15-16, 2017')\n",
    "plt.xticks(rotation=45, ha='right')\n",
    "plt.tight_layout()\n",
    "plt.show()"
   ]
  },
  {
   "cell_type": "markdown",
   "metadata": {},
   "source": [
    "**From this graph, we can identify the most popular taxi companies based on the number of rides. Companies with higher numbers of rides might have a larger market share or better service coverage.**"
   ]
  },
  {
   "cell_type": "code",
   "execution_count": 8,
   "metadata": {},
   "outputs": [
    {
     "data": {
      "image/png": "[encoded data removed]",
      "text/plain": [
       "<Figure size 1200x600 with 1 Axes>"
      ]
     },
     "metadata": {},
     "output_type": "display_data"
    }
   ],
   "source": [
    "# Plot top 10 neighborhoods by number of drop-offs\n",
    "plt.figure(figsize=(12, 6))\n",
    "plt.bar(top_10_neighborhoods['dropoff_location_name'], top_10_neighborhoods['average_trips'], color='skyblue')\n",
    "plt.xlabel('Neighborhood')\n",
    "plt.ylabel('Average Number of Drop-offs')\n",
    "plt.title('Top 10 Neighborhoods by Average Number of Drop-offs in November 2017')\n",
    "plt.xticks(rotation=45, ha='right')\n",
    "plt.tight_layout()\n",
    "plt.show()"
   ]
  },
  {
   "cell_type": "markdown",
   "metadata": {},
   "source": [
    "**Identifying these neighborhoods can help Zuber understand high-demand areas and optimize their service coverage. For example, the Loop and River North are among the top neighborhoods, indicating a high demand for taxi services in these areas.**"
   ]
  },
  {
   "cell_type": "code",
   "execution_count": 9,
   "metadata": {},
   "outputs": [
    {
     "data": {
      "text/html": [
       "<div>\n",
       "<style scoped>\n",
       "    .dataframe tbody tr th:only-of-type {\n",
       "        vertical-align: middle;\n",
       "    }\n",
       "\n",
       "    .dataframe tbody tr th {\n",
       "        vertical-align: top;\n",
       "    }\n",
       "\n",
       "    .dataframe thead th {\n",
       "        text-align: right;\n",
       "    }\n",
       "</style>\n",
       "<table border=\"1\" class=\"dataframe\">\n",
       "  <thead>\n",
       "    <tr style=\"text-align: right;\">\n",
       "      <th></th>\n",
       "      <th>dropoff_location_name</th>\n",
       "      <th>average_trips</th>\n",
       "    </tr>\n",
       "  </thead>\n",
       "  <tbody>\n",
       "    <tr>\n",
       "      <th>0</th>\n",
       "      <td>Loop</td>\n",
       "      <td>10727.466667</td>\n",
       "    </tr>\n",
       "    <tr>\n",
       "      <th>1</th>\n",
       "      <td>River North</td>\n",
       "      <td>9523.666667</td>\n",
       "    </tr>\n",
       "    <tr>\n",
       "      <th>2</th>\n",
       "      <td>Streeterville</td>\n",
       "      <td>6664.666667</td>\n",
       "    </tr>\n",
       "    <tr>\n",
       "      <th>3</th>\n",
       "      <td>West Loop</td>\n",
       "      <td>5163.666667</td>\n",
       "    </tr>\n",
       "    <tr>\n",
       "      <th>4</th>\n",
       "      <td>O'Hare</td>\n",
       "      <td>2546.900000</td>\n",
       "    </tr>\n",
       "    <tr>\n",
       "      <th>5</th>\n",
       "      <td>Lake View</td>\n",
       "      <td>2420.966667</td>\n",
       "    </tr>\n",
       "    <tr>\n",
       "      <th>6</th>\n",
       "      <td>Grant Park</td>\n",
       "      <td>2068.533333</td>\n",
       "    </tr>\n",
       "    <tr>\n",
       "      <th>7</th>\n",
       "      <td>Museum Campus</td>\n",
       "      <td>1510.000000</td>\n",
       "    </tr>\n",
       "    <tr>\n",
       "      <th>8</th>\n",
       "      <td>Gold Coast</td>\n",
       "      <td>1364.233333</td>\n",
       "    </tr>\n",
       "    <tr>\n",
       "      <th>9</th>\n",
       "      <td>Sheffield &amp; DePaul</td>\n",
       "      <td>1259.766667</td>\n",
       "    </tr>\n",
       "  </tbody>\n",
       "</table>\n",
       "</div>"
      ],
      "text/plain": [
       "  dropoff_location_name  average_trips\n",
       "0                  Loop   10727.466667\n",
       "1           River North    9523.666667\n",
       "2         Streeterville    6664.666667\n",
       "3             West Loop    5163.666667\n",
       "4                O'Hare    2546.900000\n",
       "5             Lake View    2420.966667\n",
       "6            Grant Park    2068.533333\n",
       "7         Museum Campus    1510.000000\n",
       "8            Gold Coast    1364.233333\n",
       "9    Sheffield & DePaul    1259.766667"
      ]
     },
     "metadata": {},
     "output_type": "display_data"
    }
   ],
   "source": [
    "# Display the top 10 neighborhoods\n",
    "display(top_10_neighborhoods)"
   ]
  },
  {
   "cell_type": "markdown",
   "metadata": {},
   "source": [
    "## Step 5: Testing Hypotheses\n",
    "Objective: test the hypothesis that the average duration of rides from the Loop to O'Hare International Airport changes on rainy Saturdays.\n",
    "- Load the dataset: project_sql_result_07.csv\n",
    "- Filter rides that occurred on Saturdays.\n",
    "- Classify the rides based on weather conditions.\n",
    "- Perform the t-test.\n",
    "\n",
    "### Hypothesis Formation\n",
    "- Null Hypothesis (H0): The average duration of rides from the Loop to O'Hare International Airport does not change on rainy Saturdays.\n",
    "- Alternative Hypothesis (H1): The average duration of rides from the Loop to O'Hare International Airport changes on rainy Saturdays.\n",
    "\n",
    "### Criterion for Testing\n",
    "We will use a **two-sample t-test** to compare the means of two independent groups (rainy Saturdays vs. non-rainy Saturdays) because:\n",
    "- We have two independent samples.\n",
    "- We want to compare their means.\n",
    "- The t-test is appropriate for normally distributed interval data when the sample size is large.\n",
    "\n",
    "### Setting Significance Level\n",
    "We set the significance level **(𝛼) at 0.05**. This means we are willing to accept a 5% chance of rejecting the null hypothesis when it is actually true."
   ]
  },
  {
   "cell_type": "code",
   "execution_count": 10,
   "metadata": {},
   "outputs": [
    {
     "name": "stdout",
     "output_type": "stream",
     "text": [
      "t-statistic: 5.427957689754561\n",
      "p-value: 7.397770692813658e-08\n",
      "Conclusion: Reject the null hypothesis. The average duration of rides changes on rainy Saturdays.\n"
     ]
    }
   ],
   "source": [
    "# Convert start_ts to datetime\n",
    "project_sql_result_07['start_ts'] = pd.to_datetime(project_sql_result_07['start_ts'])\n",
    "\n",
    "# Filter rides that occurred on saturdays\n",
    "saturday_rides = project_sql_result_07[project_sql_result_07['start_ts'].dt.dayofweek == 5]\n",
    "\n",
    "# Separate rides based on weather conditions\n",
    "rainy_saturdays = saturday_rides[saturday_rides['weather_conditions'] == 'Bad']['duration_seconds']\n",
    "non_rainy_saturdays = saturday_rides[saturday_rides['weather_conditions'] == 'Good']['duration_seconds']\n",
    "\n",
    "# Perform a t-test to compare the durations\n",
    "t_stat, p_value = stats.ttest_ind(rainy_saturdays, non_rainy_saturdays)\n",
    "\n",
    "# Set the significance level\n",
    "alpha = 0.05\n",
    "\n",
    "# Conclusion\n",
    "if p_value < alpha:\n",
    "    conclusion = \"Reject the null hypothesis. The average duration of rides changes on rainy Saturdays.\"\n",
    "else:\n",
    "    conclusion = \"Fail to reject the null hypothesis. The average duration of rides does not change on rainy Saturdays.\"\n",
    "\n",
    "print(\"t-statistic:\", t_stat)\n",
    "print(\"p-value:\", p_value)\n",
    "print(\"Conclusion:\", conclusion)"
   ]
  },
  {
   "cell_type": "markdown",
   "metadata": {},
   "source": [
    "## Overall Conclusion\n",
    "**The project provided valuable insights into taxi ride patterns and external factors affecting ride durations in Chicago. Key findings include:**\n",
    "\n",
    "- Market Dominance: Flash Cab and Taxi Affiliation Services are the leading taxi companies, significantly outpacing other companies in terms of ride numbers.\n",
    "- High-Demand Areas: The Loop and River North are the top neighborhoods for taxi drop-offs, indicating high passenger activity in these areas.\n",
    "- Impact of Weather: Rainy weather conditions significantly increase the duration of taxi rides from the Loop to O'Hare International Airport on Saturdays.\n",
    "\n",
    "**Recommendations for Zuber**<br>\n",
    "- Operational Adjustments: Increase the number of available vehicles on rainy Saturdays to meet higher demand and reduce wait times.\n",
    "- Train drivers on best practices for driving in rainy conditions to ensure safety and efficiency.\n",
    "\n",
    "**Service Optimization:** <br>\n",
    "- Focus on high-demand areas like the Loop and River North to optimize service coverage and enhance customer satisfaction.\n",
    "- Implement surge pricing or additional incentives for drivers during peak hours and bad weather conditions to maintain service levels.\n",
    "\n",
    "**Customer Communication:**<br>\n",
    "- Use the Zuber app to notify passengers of potential delays on rainy Saturdays and provide accurate ride duration estimates.\n",
    "- Offer alternative routes or travel suggestions during inclement weather to improve the passenger experience.\n",
    "\n",
    "**By leveraging these insights and recommendations, Zuber can enhance its service quality, meet customer expectations, and establish a strong presence in the competitive Chicago ride-sharing market.**"
   ]
  }
 ],
 "metadata": {
  "ExecuteTimeLog": [
   {
    "duration": 5967,
    "start_time": "2024-07-18T05:41:18.176Z"
   },
   {
    "duration": 133,
    "start_time": "2024-07-18T05:42:15.625Z"
   },
   {
    "duration": 2287,
    "start_time": "2024-07-18T05:42:58.791Z"
   },
   {
    "duration": 19,
    "start_time": "2024-07-18T05:45:46.808Z"
   },
   {
    "duration": 1122,
    "start_time": "2024-07-18T05:45:56.762Z"
   },
   {
    "duration": 52,
    "start_time": "2024-07-18T05:45:57.888Z"
   },
   {
    "duration": 2624,
    "start_time": "2024-07-18T05:48:22.192Z"
   },
   {
    "duration": 498,
    "start_time": "2024-07-18T05:55:21.607Z"
   },
   {
    "duration": 290,
    "start_time": "2024-07-18T05:55:31.272Z"
   },
   {
    "duration": 769,
    "start_time": "2024-07-18T05:55:32.543Z"
   },
   {
    "duration": 542,
    "start_time": "2024-07-18T05:57:36.496Z"
   },
   {
    "duration": 152,
    "start_time": "2024-07-18T05:57:53.649Z"
   },
   {
    "duration": 545,
    "start_time": "2024-07-18T05:59:36.353Z"
   },
   {
    "duration": 1227,
    "start_time": "2024-07-18T05:59:44.885Z"
   },
   {
    "duration": 553,
    "start_time": "2024-07-18T05:59:46.115Z"
   },
   {
    "duration": 233,
    "start_time": "2024-07-18T05:59:46.671Z"
   },
   {
    "duration": 732,
    "start_time": "2024-07-18T05:59:46.909Z"
   },
   {
    "duration": 0,
    "start_time": "2024-07-18T05:59:47.644Z"
   },
   {
    "duration": 0,
    "start_time": "2024-07-18T05:59:47.646Z"
   },
   {
    "duration": 0,
    "start_time": "2024-07-18T05:59:47.648Z"
   },
   {
    "duration": 4,
    "start_time": "2024-07-18T06:00:04.846Z"
   },
   {
    "duration": 604,
    "start_time": "2024-07-18T06:00:06.025Z"
   },
   {
    "duration": 142,
    "start_time": "2024-07-18T06:00:06.712Z"
   },
   {
    "duration": 42,
    "start_time": "2024-07-18T06:02:05.188Z"
   },
   {
    "duration": 277,
    "start_time": "2024-07-18T06:07:18.053Z"
   },
   {
    "duration": 34,
    "start_time": "2024-07-18T06:07:41.995Z"
   },
   {
    "duration": 1392,
    "start_time": "2024-07-18T06:07:52.520Z"
   },
   {
    "duration": 558,
    "start_time": "2024-07-18T06:07:53.917Z"
   },
   {
    "duration": 224,
    "start_time": "2024-07-18T06:07:54.478Z"
   },
   {
    "duration": 101,
    "start_time": "2024-07-18T06:07:54.704Z"
   },
   {
    "duration": 412,
    "start_time": "2024-07-18T06:07:54.810Z"
   },
   {
    "duration": 0,
    "start_time": "2024-07-18T06:07:55.225Z"
   },
   {
    "duration": 0,
    "start_time": "2024-07-18T06:07:55.231Z"
   },
   {
    "duration": 0,
    "start_time": "2024-07-18T06:07:55.233Z"
   },
   {
    "duration": 275,
    "start_time": "2024-07-18T06:09:45.244Z"
   },
   {
    "duration": 27,
    "start_time": "2024-07-18T06:12:12.163Z"
   },
   {
    "duration": 28,
    "start_time": "2024-07-18T06:12:16.440Z"
   },
   {
    "duration": 155,
    "start_time": "2024-07-18T06:12:31.497Z"
   },
   {
    "duration": 29,
    "start_time": "2024-07-18T06:13:34.959Z"
   },
   {
    "duration": 29,
    "start_time": "2024-07-18T06:14:21.341Z"
   },
   {
    "duration": 27,
    "start_time": "2024-07-18T06:17:06.008Z"
   },
   {
    "duration": 182,
    "start_time": "2024-07-18T06:18:23.091Z"
   },
   {
    "duration": 25,
    "start_time": "2024-07-18T06:18:26.299Z"
   },
   {
    "duration": 27,
    "start_time": "2024-07-18T06:18:27.473Z"
   },
   {
    "duration": 28,
    "start_time": "2024-07-18T06:18:30.663Z"
   },
   {
    "duration": 16,
    "start_time": "2024-07-18T06:18:32.893Z"
   },
   {
    "duration": 50,
    "start_time": "2024-07-18T06:23:57.185Z"
   },
   {
    "duration": 31,
    "start_time": "2024-07-18T06:24:59.538Z"
   },
   {
    "duration": 34,
    "start_time": "2024-07-18T06:25:44.256Z"
   },
   {
    "duration": 183,
    "start_time": "2024-07-18T06:26:06.762Z"
   },
   {
    "duration": 579,
    "start_time": "2024-07-18T06:26:18.904Z"
   },
   {
    "duration": 603,
    "start_time": "2024-07-18T06:26:22.737Z"
   },
   {
    "duration": 141,
    "start_time": "2024-07-18T06:27:10.700Z"
   },
   {
    "duration": 518,
    "start_time": "2024-07-18T06:27:15.829Z"
   },
   {
    "duration": 151,
    "start_time": "2024-07-18T06:27:16.351Z"
   },
   {
    "duration": 148,
    "start_time": "2024-07-18T06:27:24.196Z"
   },
   {
    "duration": 51,
    "start_time": "2024-07-18T06:27:34.837Z"
   },
   {
    "duration": 27,
    "start_time": "2024-07-18T06:27:38.392Z"
   },
   {
    "duration": 27,
    "start_time": "2024-07-18T06:27:41.868Z"
   },
   {
    "duration": 28,
    "start_time": "2024-07-18T06:30:29.001Z"
   },
   {
    "duration": 36,
    "start_time": "2024-07-18T06:30:51.623Z"
   },
   {
    "duration": 30,
    "start_time": "2024-07-18T06:32:00.137Z"
   },
   {
    "duration": 25,
    "start_time": "2024-07-18T06:33:29.873Z"
   },
   {
    "duration": 56,
    "start_time": "2024-07-18T06:33:53.221Z"
   },
   {
    "duration": 54,
    "start_time": "2024-07-18T06:34:18.763Z"
   },
   {
    "duration": 70,
    "start_time": "2024-07-18T06:34:32.591Z"
   },
   {
    "duration": 53,
    "start_time": "2024-07-18T06:35:17.398Z"
   },
   {
    "duration": 108,
    "start_time": "2024-07-18T06:36:35.448Z"
   },
   {
    "duration": 10,
    "start_time": "2024-07-18T06:36:47.859Z"
   },
   {
    "duration": 16,
    "start_time": "2024-07-18T06:36:58.348Z"
   },
   {
    "duration": 9,
    "start_time": "2024-07-18T06:37:13.280Z"
   },
   {
    "duration": 1244,
    "start_time": "2024-07-18T06:37:30.387Z"
   },
   {
    "duration": 557,
    "start_time": "2024-07-18T06:37:31.635Z"
   },
   {
    "duration": 225,
    "start_time": "2024-07-18T06:37:32.195Z"
   },
   {
    "duration": 152,
    "start_time": "2024-07-18T06:37:32.423Z"
   },
   {
    "duration": 27,
    "start_time": "2024-07-18T06:37:32.579Z"
   },
   {
    "duration": 26,
    "start_time": "2024-07-18T06:37:32.609Z"
   },
   {
    "duration": 28,
    "start_time": "2024-07-18T06:37:32.644Z"
   },
   {
    "duration": 27,
    "start_time": "2024-07-18T06:37:32.675Z"
   },
   {
    "duration": 60,
    "start_time": "2024-07-18T06:37:32.705Z"
   },
   {
    "duration": 50,
    "start_time": "2024-07-18T06:37:32.768Z"
   },
   {
    "duration": 432,
    "start_time": "2024-07-18T06:37:32.820Z"
   },
   {
    "duration": 0,
    "start_time": "2024-07-18T06:37:33.255Z"
   },
   {
    "duration": 0,
    "start_time": "2024-07-18T06:37:33.258Z"
   },
   {
    "duration": 0,
    "start_time": "2024-07-18T06:37:33.260Z"
   },
   {
    "duration": 0,
    "start_time": "2024-07-18T06:37:33.262Z"
   },
   {
    "duration": 29,
    "start_time": "2024-07-18T06:39:49.753Z"
   },
   {
    "duration": 71,
    "start_time": "2024-07-18T06:40:16.246Z"
   },
   {
    "duration": 176,
    "start_time": "2024-07-18T06:40:17.089Z"
   },
   {
    "duration": 84,
    "start_time": "2024-07-18T06:41:01.232Z"
   },
   {
    "duration": 56,
    "start_time": "2024-07-18T06:41:13.860Z"
   },
   {
    "duration": 118,
    "start_time": "2024-07-18T06:42:43.746Z"
   },
   {
    "duration": 29,
    "start_time": "2024-07-18T06:42:45.892Z"
   },
   {
    "duration": 27,
    "start_time": "2024-07-18T06:44:20.588Z"
   },
   {
    "duration": 33,
    "start_time": "2024-07-18T06:45:13.456Z"
   },
   {
    "duration": 28,
    "start_time": "2024-07-18T06:45:14.915Z"
   },
   {
    "duration": 86,
    "start_time": "2024-07-18T06:45:44.848Z"
   },
   {
    "duration": 32,
    "start_time": "2024-07-18T06:45:45.887Z"
   },
   {
    "duration": 21,
    "start_time": "2024-07-18T06:45:47.487Z"
   },
   {
    "duration": 25,
    "start_time": "2024-07-18T06:46:11.177Z"
   },
   {
    "duration": 23,
    "start_time": "2024-07-18T06:46:23.365Z"
   },
   {
    "duration": 88,
    "start_time": "2024-07-18T06:49:03.258Z"
   },
   {
    "duration": 30,
    "start_time": "2024-07-18T06:49:22.745Z"
   },
   {
    "duration": 86,
    "start_time": "2024-07-18T06:49:30.242Z"
   },
   {
    "duration": 64,
    "start_time": "2024-07-18T06:49:32.424Z"
   },
   {
    "duration": 26,
    "start_time": "2024-07-18T06:49:34.437Z"
   },
   {
    "duration": 7,
    "start_time": "2024-07-18T06:50:34.746Z"
   },
   {
    "duration": 10,
    "start_time": "2024-07-18T06:52:03.539Z"
   },
   {
    "duration": 8,
    "start_time": "2024-07-18T06:52:45.721Z"
   },
   {
    "duration": 30,
    "start_time": "2024-07-18T06:52:46.516Z"
   },
   {
    "duration": 32,
    "start_time": "2024-07-18T06:52:47.585Z"
   },
   {
    "duration": 11,
    "start_time": "2024-07-18T06:52:49.627Z"
   },
   {
    "duration": 28,
    "start_time": "2024-07-18T06:55:36.902Z"
   },
   {
    "duration": 92,
    "start_time": "2024-07-18T06:55:37.626Z"
   },
   {
    "duration": 25,
    "start_time": "2024-07-18T06:55:38.531Z"
   },
   {
    "duration": 8,
    "start_time": "2024-07-18T06:55:39.382Z"
   },
   {
    "duration": 8,
    "start_time": "2024-07-18T06:56:09.280Z"
   },
   {
    "duration": 581,
    "start_time": "2024-07-18T07:00:56.952Z"
   },
   {
    "duration": 18,
    "start_time": "2024-07-18T07:00:57.843Z"
   },
   {
    "duration": 4,
    "start_time": "2024-07-18T07:01:03.920Z"
   },
   {
    "duration": 622,
    "start_time": "2024-07-18T07:01:04.884Z"
   },
   {
    "duration": 24,
    "start_time": "2024-07-18T07:01:05.510Z"
   },
   {
    "duration": 45,
    "start_time": "2024-07-18T07:01:57.149Z"
   },
   {
    "duration": 47,
    "start_time": "2024-07-18T07:02:06.400Z"
   },
   {
    "duration": 28,
    "start_time": "2024-07-18T07:02:23.198Z"
   },
   {
    "duration": 33,
    "start_time": "2024-07-18T07:02:38.636Z"
   },
   {
    "duration": 36,
    "start_time": "2024-07-18T07:03:04.418Z"
   },
   {
    "duration": 31,
    "start_time": "2024-07-18T07:03:23.383Z"
   },
   {
    "duration": 224,
    "start_time": "2024-07-18T07:04:01.432Z"
   },
   {
    "duration": 39,
    "start_time": "2024-07-18T07:05:11.824Z"
   },
   {
    "duration": 35,
    "start_time": "2024-07-18T07:05:32.381Z"
   },
   {
    "duration": 33,
    "start_time": "2024-07-18T07:06:09.557Z"
   },
   {
    "duration": 30,
    "start_time": "2024-07-18T07:06:49.874Z"
   },
   {
    "duration": 26,
    "start_time": "2024-07-18T07:07:11.349Z"
   },
   {
    "duration": 29,
    "start_time": "2024-07-18T07:07:20.559Z"
   },
   {
    "duration": 8,
    "start_time": "2024-07-18T07:07:57.600Z"
   },
   {
    "duration": 25,
    "start_time": "2024-07-18T07:09:02.440Z"
   },
   {
    "duration": 11,
    "start_time": "2024-07-18T07:09:27.688Z"
   },
   {
    "duration": 25,
    "start_time": "2024-07-18T07:12:30.473Z"
   },
   {
    "duration": 25,
    "start_time": "2024-07-18T07:12:38.031Z"
   },
   {
    "duration": 30,
    "start_time": "2024-07-18T07:14:04.749Z"
   },
   {
    "duration": 41,
    "start_time": "2024-07-18T07:14:59.150Z"
   },
   {
    "duration": 17,
    "start_time": "2024-07-18T07:16:01.304Z"
   },
   {
    "duration": 8,
    "start_time": "2024-07-18T07:16:02.072Z"
   },
   {
    "duration": 9,
    "start_time": "2024-07-18T07:16:03.105Z"
   },
   {
    "duration": 14,
    "start_time": "2024-07-18T07:18:39.346Z"
   },
   {
    "duration": 9,
    "start_time": "2024-07-18T07:18:40.056Z"
   },
   {
    "duration": 10,
    "start_time": "2024-07-18T07:18:40.673Z"
   },
   {
    "duration": 9,
    "start_time": "2024-07-18T07:18:41.356Z"
   },
   {
    "duration": 21,
    "start_time": "2024-07-18T07:18:42.023Z"
   },
   {
    "duration": 11,
    "start_time": "2024-07-18T07:18:42.860Z"
   },
   {
    "duration": 9,
    "start_time": "2024-07-18T07:19:35.598Z"
   },
   {
    "duration": 9,
    "start_time": "2024-07-18T07:19:42.625Z"
   },
   {
    "duration": 27,
    "start_time": "2024-07-18T07:25:18.181Z"
   },
   {
    "duration": 44,
    "start_time": "2024-07-18T07:25:25.932Z"
   },
   {
    "duration": 36,
    "start_time": "2024-07-18T07:25:33.971Z"
   },
   {
    "duration": 13,
    "start_time": "2024-07-18T07:26:50.393Z"
   },
   {
    "duration": 15,
    "start_time": "2024-07-18T07:27:31.879Z"
   },
   {
    "duration": 12,
    "start_time": "2024-07-18T07:28:27.537Z"
   },
   {
    "duration": 10,
    "start_time": "2024-07-18T07:28:47.551Z"
   },
   {
    "duration": 14,
    "start_time": "2024-07-18T07:29:04.208Z"
   },
   {
    "duration": 15,
    "start_time": "2024-07-18T07:29:24.320Z"
   },
   {
    "duration": 8,
    "start_time": "2024-07-18T07:29:45.650Z"
   },
   {
    "duration": 4,
    "start_time": "2024-07-18T07:34:48.757Z"
   },
   {
    "duration": 4,
    "start_time": "2024-07-18T07:35:10.290Z"
   },
   {
    "duration": 70,
    "start_time": "2024-07-18T07:35:22.757Z"
   },
   {
    "duration": 10,
    "start_time": "2024-07-18T07:35:30.198Z"
   },
   {
    "duration": 5,
    "start_time": "2024-07-18T07:35:32.035Z"
   },
   {
    "duration": 69,
    "start_time": "2024-07-18T07:35:34.367Z"
   },
   {
    "duration": 11,
    "start_time": "2024-07-18T07:36:12.078Z"
   },
   {
    "duration": 4,
    "start_time": "2024-07-18T07:36:13.436Z"
   },
   {
    "duration": 67,
    "start_time": "2024-07-18T07:36:21.153Z"
   },
   {
    "duration": 83,
    "start_time": "2024-07-18T07:37:01.710Z"
   },
   {
    "duration": 69,
    "start_time": "2024-07-18T07:37:35.270Z"
   },
   {
    "duration": 1360,
    "start_time": "2024-07-18T07:38:11.645Z"
   },
   {
    "duration": 575,
    "start_time": "2024-07-18T07:38:13.008Z"
   },
   {
    "duration": 22,
    "start_time": "2024-07-18T07:38:13.586Z"
   },
   {
    "duration": 39,
    "start_time": "2024-07-18T07:38:13.633Z"
   },
   {
    "duration": 229,
    "start_time": "2024-07-18T07:38:13.675Z"
   },
   {
    "duration": 31,
    "start_time": "2024-07-18T07:38:13.907Z"
   },
   {
    "duration": 28,
    "start_time": "2024-07-18T07:38:13.943Z"
   },
   {
    "duration": 30,
    "start_time": "2024-07-18T07:38:13.975Z"
   },
   {
    "duration": 443,
    "start_time": "2024-07-18T07:38:14.010Z"
   },
   {
    "duration": 0,
    "start_time": "2024-07-18T07:38:14.456Z"
   },
   {
    "duration": 0,
    "start_time": "2024-07-18T07:38:14.459Z"
   },
   {
    "duration": 0,
    "start_time": "2024-07-18T07:38:14.461Z"
   },
   {
    "duration": 104,
    "start_time": "2024-07-18T07:40:38.641Z"
   },
   {
    "duration": 28,
    "start_time": "2024-07-18T07:42:49.526Z"
   },
   {
    "duration": 9,
    "start_time": "2024-07-18T07:42:59.639Z"
   },
   {
    "duration": 9,
    "start_time": "2024-07-18T07:43:14.494Z"
   },
   {
    "duration": 5,
    "start_time": "2024-07-18T07:47:56.300Z"
   },
   {
    "duration": 4,
    "start_time": "2024-07-18T08:00:17.724Z"
   },
   {
    "duration": 689,
    "start_time": "2024-07-18T08:03:26.066Z"
   },
   {
    "duration": 743,
    "start_time": "2024-07-18T08:06:01.432Z"
   },
   {
    "duration": 707,
    "start_time": "2024-07-18T08:06:14.807Z"
   },
   {
    "duration": 771,
    "start_time": "2024-07-18T08:07:10.624Z"
   },
   {
    "duration": 237,
    "start_time": "2024-07-18T08:07:18.360Z"
   },
   {
    "duration": 274,
    "start_time": "2024-07-18T08:07:35.297Z"
   },
   {
    "duration": 308,
    "start_time": "2024-07-18T08:07:38.876Z"
   },
   {
    "duration": 96,
    "start_time": "2024-07-18T08:07:39.839Z"
   },
   {
    "duration": 252,
    "start_time": "2024-07-18T08:08:50.292Z"
   },
   {
    "duration": 267,
    "start_time": "2024-07-18T08:09:26.758Z"
   },
   {
    "duration": 100,
    "start_time": "2024-07-18T08:09:51.496Z"
   },
   {
    "duration": 256,
    "start_time": "2024-07-18T08:09:55.246Z"
   },
   {
    "duration": 83,
    "start_time": "2024-07-18T08:09:56.516Z"
   },
   {
    "duration": 886,
    "start_time": "2024-07-18T08:10:04.906Z"
   },
   {
    "duration": 993,
    "start_time": "2024-07-18T08:10:05.795Z"
   },
   {
    "duration": 263,
    "start_time": "2024-07-18T08:10:06.790Z"
   },
   {
    "duration": 603,
    "start_time": "2024-07-18T08:10:07.058Z"
   },
   {
    "duration": 0,
    "start_time": "2024-07-18T08:10:07.664Z"
   },
   {
    "duration": 0,
    "start_time": "2024-07-18T08:10:07.666Z"
   },
   {
    "duration": 0,
    "start_time": "2024-07-18T08:10:07.668Z"
   },
   {
    "duration": 0,
    "start_time": "2024-07-18T08:10:07.670Z"
   },
   {
    "duration": 0,
    "start_time": "2024-07-18T08:10:07.672Z"
   },
   {
    "duration": 0,
    "start_time": "2024-07-18T08:10:07.673Z"
   },
   {
    "duration": 0,
    "start_time": "2024-07-18T08:10:07.675Z"
   },
   {
    "duration": 0,
    "start_time": "2024-07-18T08:10:07.676Z"
   },
   {
    "duration": 102,
    "start_time": "2024-07-18T08:13:52.145Z"
   },
   {
    "duration": 109,
    "start_time": "2024-07-18T08:15:07.024Z"
   },
   {
    "duration": 284,
    "start_time": "2024-07-18T08:15:10.842Z"
   },
   {
    "duration": 131,
    "start_time": "2024-07-18T08:15:12.175Z"
   },
   {
    "duration": 872,
    "start_time": "2024-07-18T08:19:52.507Z"
   },
   {
    "duration": 1003,
    "start_time": "2024-07-18T08:19:53.383Z"
   },
   {
    "duration": 267,
    "start_time": "2024-07-18T08:19:54.389Z"
   },
   {
    "duration": 621,
    "start_time": "2024-07-18T08:19:54.660Z"
   },
   {
    "duration": 0,
    "start_time": "2024-07-18T08:19:55.285Z"
   },
   {
    "duration": 0,
    "start_time": "2024-07-18T08:19:55.287Z"
   },
   {
    "duration": 0,
    "start_time": "2024-07-18T08:19:55.289Z"
   },
   {
    "duration": 0,
    "start_time": "2024-07-18T08:19:55.291Z"
   },
   {
    "duration": 0,
    "start_time": "2024-07-18T08:19:55.293Z"
   },
   {
    "duration": 0,
    "start_time": "2024-07-18T08:19:55.294Z"
   },
   {
    "duration": 0,
    "start_time": "2024-07-18T08:19:55.296Z"
   },
   {
    "duration": 0,
    "start_time": "2024-07-18T08:19:55.299Z"
   },
   {
    "duration": 68,
    "start_time": "2024-07-18T08:32:54.457Z"
   },
   {
    "duration": 822,
    "start_time": "2024-07-18T08:32:55.767Z"
   },
   {
    "duration": 332,
    "start_time": "2024-07-18T08:32:58.368Z"
   },
   {
    "duration": 129,
    "start_time": "2024-07-18T08:33:00.260Z"
   },
   {
    "duration": 639,
    "start_time": "2024-07-18T08:33:35.997Z"
   },
   {
    "duration": 15,
    "start_time": "2024-07-18T08:33:56.541Z"
   },
   {
    "duration": 124,
    "start_time": "2024-07-18T08:34:42.799Z"
   },
   {
    "duration": 7,
    "start_time": "2024-07-18T08:34:56.627Z"
   },
   {
    "duration": 561,
    "start_time": "2024-07-18T08:34:57.509Z"
   },
   {
    "duration": 16,
    "start_time": "2024-07-18T08:34:58.074Z"
   },
   {
    "duration": 132,
    "start_time": "2024-07-18T08:34:59.221Z"
   },
   {
    "duration": 114,
    "start_time": "2024-07-18T08:35:01.187Z"
   },
   {
    "duration": 102,
    "start_time": "2024-07-18T08:36:44.159Z"
   },
   {
    "duration": 105,
    "start_time": "2024-07-18T08:39:18.552Z"
   },
   {
    "duration": 102,
    "start_time": "2024-07-18T08:42:10.253Z"
   },
   {
    "duration": 1852,
    "start_time": "2024-07-18T08:45:47.685Z"
   },
   {
    "duration": 0,
    "start_time": "2024-07-18T08:45:49.543Z"
   },
   {
    "duration": 4,
    "start_time": "2024-07-18T08:46:19.359Z"
   },
   {
    "duration": 835,
    "start_time": "2024-07-18T08:46:20.372Z"
   },
   {
    "duration": 569,
    "start_time": "2024-07-18T09:01:48.670Z"
   },
   {
    "duration": 567,
    "start_time": "2024-07-18T09:01:59.751Z"
   },
   {
    "duration": 14,
    "start_time": "2024-07-18T09:02:20.368Z"
   },
   {
    "duration": 682,
    "start_time": "2024-07-18T09:05:55.199Z"
   },
   {
    "duration": 15,
    "start_time": "2024-07-18T09:06:10.423Z"
   },
   {
    "duration": 7,
    "start_time": "2024-07-18T09:13:05.987Z"
   },
   {
    "duration": 4,
    "start_time": "2024-07-18T09:16:31.174Z"
   },
   {
    "duration": 785,
    "start_time": "2024-07-18T09:16:32.365Z"
   },
   {
    "duration": 105,
    "start_time": "2024-07-18T09:16:56.159Z"
   },
   {
    "duration": 50,
    "start_time": "2024-07-18T09:17:52.279Z"
   },
   {
    "duration": 79,
    "start_time": "2024-07-18T09:18:27.360Z"
   },
   {
    "duration": 80,
    "start_time": "2024-07-18T09:21:06.689Z"
   },
   {
    "duration": 7,
    "start_time": "2024-07-18T09:21:10.823Z"
   },
   {
    "duration": 669,
    "start_time": "2024-07-18T09:21:12.033Z"
   },
   {
    "duration": 96,
    "start_time": "2024-07-18T09:21:14.050Z"
   },
   {
    "duration": 84,
    "start_time": "2024-07-18T09:21:15.001Z"
   },
   {
    "duration": 82,
    "start_time": "2024-07-18T09:21:39.495Z"
   },
   {
    "duration": 80,
    "start_time": "2024-07-18T09:22:49.686Z"
   },
   {
    "duration": 45,
    "start_time": "2024-07-18T09:24:33.160Z"
   },
   {
    "duration": 69,
    "start_time": "2024-07-18T09:25:20.973Z"
   },
   {
    "duration": 1042,
    "start_time": "2024-07-18T09:25:26.830Z"
   },
   {
    "duration": 717,
    "start_time": "2024-07-18T09:25:27.876Z"
   },
   {
    "duration": 171,
    "start_time": "2024-07-18T09:25:28.596Z"
   },
   {
    "duration": 630,
    "start_time": "2024-07-18T09:25:28.770Z"
   },
   {
    "duration": 0,
    "start_time": "2024-07-18T09:25:29.403Z"
   },
   {
    "duration": 0,
    "start_time": "2024-07-18T09:25:29.405Z"
   },
   {
    "duration": 0,
    "start_time": "2024-07-18T09:25:29.408Z"
   },
   {
    "duration": 0,
    "start_time": "2024-07-18T09:25:29.409Z"
   },
   {
    "duration": 0,
    "start_time": "2024-07-18T09:25:29.412Z"
   },
   {
    "duration": 0,
    "start_time": "2024-07-18T09:25:29.431Z"
   },
   {
    "duration": 0,
    "start_time": "2024-07-18T09:25:29.433Z"
   },
   {
    "duration": 0,
    "start_time": "2024-07-18T09:25:29.435Z"
   },
   {
    "duration": 0,
    "start_time": "2024-07-18T09:25:29.437Z"
   },
   {
    "duration": 0,
    "start_time": "2024-07-18T09:25:29.439Z"
   },
   {
    "duration": 44,
    "start_time": "2024-07-18T09:34:22.187Z"
   },
   {
    "duration": 710,
    "start_time": "2024-07-18T09:35:09.146Z"
   },
   {
    "duration": 125,
    "start_time": "2024-07-18T09:35:35.809Z"
   },
   {
    "duration": 979,
    "start_time": "2024-07-18T09:35:45.740Z"
   },
   {
    "duration": 1002,
    "start_time": "2024-07-18T09:35:50.610Z"
   },
   {
    "duration": 759,
    "start_time": "2024-07-18T09:35:51.616Z"
   },
   {
    "duration": 55,
    "start_time": "2024-07-18T09:35:52.378Z"
   },
   {
    "duration": 1103,
    "start_time": "2024-07-18T09:35:52.437Z"
   },
   {
    "duration": 674,
    "start_time": "2024-07-18T09:35:53.544Z"
   },
   {
    "duration": 0,
    "start_time": "2024-07-18T09:35:54.221Z"
   },
   {
    "duration": 0,
    "start_time": "2024-07-18T09:35:54.223Z"
   },
   {
    "duration": 0,
    "start_time": "2024-07-18T09:35:54.230Z"
   },
   {
    "duration": 0,
    "start_time": "2024-07-18T09:35:54.232Z"
   },
   {
    "duration": 0,
    "start_time": "2024-07-18T09:35:54.235Z"
   },
   {
    "duration": 0,
    "start_time": "2024-07-18T09:35:54.237Z"
   },
   {
    "duration": 0,
    "start_time": "2024-07-18T09:35:54.240Z"
   },
   {
    "duration": 0,
    "start_time": "2024-07-18T09:35:54.242Z"
   },
   {
    "duration": 0,
    "start_time": "2024-07-18T09:35:54.245Z"
   },
   {
    "duration": 0,
    "start_time": "2024-07-18T09:35:54.247Z"
   },
   {
    "duration": 1087,
    "start_time": "2024-07-18T09:36:14.223Z"
   },
   {
    "duration": 705,
    "start_time": "2024-07-18T09:36:15.313Z"
   },
   {
    "duration": 38,
    "start_time": "2024-07-18T09:36:16.021Z"
   },
   {
    "duration": 1083,
    "start_time": "2024-07-18T09:36:16.065Z"
   },
   {
    "duration": 661,
    "start_time": "2024-07-18T09:36:17.150Z"
   },
   {
    "duration": 0,
    "start_time": "2024-07-18T09:36:17.815Z"
   },
   {
    "duration": 0,
    "start_time": "2024-07-18T09:36:17.817Z"
   },
   {
    "duration": 0,
    "start_time": "2024-07-18T09:36:17.819Z"
   },
   {
    "duration": 0,
    "start_time": "2024-07-18T09:36:17.832Z"
   },
   {
    "duration": 0,
    "start_time": "2024-07-18T09:36:17.834Z"
   },
   {
    "duration": 0,
    "start_time": "2024-07-18T09:36:17.836Z"
   },
   {
    "duration": 0,
    "start_time": "2024-07-18T09:36:17.839Z"
   },
   {
    "duration": 0,
    "start_time": "2024-07-18T09:36:17.842Z"
   },
   {
    "duration": 0,
    "start_time": "2024-07-18T09:36:17.845Z"
   },
   {
    "duration": 0,
    "start_time": "2024-07-18T09:36:17.847Z"
   },
   {
    "duration": 687,
    "start_time": "2024-07-18T09:38:47.224Z"
   },
   {
    "duration": 36,
    "start_time": "2024-07-18T09:39:01.664Z"
   },
   {
    "duration": 1090,
    "start_time": "2024-07-18T09:39:52.844Z"
   },
   {
    "duration": 85,
    "start_time": "2024-07-18T09:39:53.937Z"
   },
   {
    "duration": 680,
    "start_time": "2024-07-18T09:44:23.136Z"
   },
   {
    "duration": 746,
    "start_time": "2024-07-18T09:46:30.716Z"
   },
   {
    "duration": 1094,
    "start_time": "2024-07-18T09:46:32.278Z"
   },
   {
    "duration": 85,
    "start_time": "2024-07-18T09:47:20.007Z"
   },
   {
    "duration": 120,
    "start_time": "2024-07-18T09:48:53.564Z"
   },
   {
    "duration": 779,
    "start_time": "2024-07-18T09:49:03.678Z"
   },
   {
    "duration": 932,
    "start_time": "2024-07-18T10:00:49.293Z"
   },
   {
    "duration": 786,
    "start_time": "2024-07-18T10:01:30.191Z"
   },
   {
    "duration": 86,
    "start_time": "2024-07-18T10:01:57.875Z"
   },
   {
    "duration": 1040,
    "start_time": "2024-07-18T10:02:19.745Z"
   },
   {
    "duration": 1102,
    "start_time": "2024-07-18T10:02:20.789Z"
   },
   {
    "duration": 0,
    "start_time": "2024-07-18T10:02:21.895Z"
   },
   {
    "duration": 0,
    "start_time": "2024-07-18T10:02:21.897Z"
   },
   {
    "duration": 0,
    "start_time": "2024-07-18T10:02:21.899Z"
   },
   {
    "duration": 0,
    "start_time": "2024-07-18T10:02:21.902Z"
   },
   {
    "duration": 0,
    "start_time": "2024-07-18T10:02:21.904Z"
   },
   {
    "duration": 0,
    "start_time": "2024-07-18T10:02:21.905Z"
   },
   {
    "duration": 0,
    "start_time": "2024-07-18T10:02:21.931Z"
   },
   {
    "duration": 0,
    "start_time": "2024-07-18T10:02:21.933Z"
   },
   {
    "duration": 0,
    "start_time": "2024-07-18T10:02:21.935Z"
   },
   {
    "duration": 0,
    "start_time": "2024-07-18T10:02:21.938Z"
   },
   {
    "duration": 0,
    "start_time": "2024-07-18T10:02:21.940Z"
   },
   {
    "duration": 0,
    "start_time": "2024-07-18T10:02:21.942Z"
   },
   {
    "duration": 0,
    "start_time": "2024-07-18T10:02:21.944Z"
   },
   {
    "duration": 0,
    "start_time": "2024-07-18T10:02:21.947Z"
   },
   {
    "duration": 24,
    "start_time": "2024-07-18T10:03:10.471Z"
   },
   {
    "duration": 10,
    "start_time": "2024-07-18T10:03:20.554Z"
   },
   {
    "duration": 983,
    "start_time": "2024-07-18T10:03:22.738Z"
   },
   {
    "duration": 539,
    "start_time": "2024-07-18T10:03:23.883Z"
   },
   {
    "duration": 242,
    "start_time": "2024-07-18T10:03:26.362Z"
   },
   {
    "duration": 1043,
    "start_time": "2024-07-18T10:03:37.617Z"
   },
   {
    "duration": 1025,
    "start_time": "2024-07-18T10:03:38.664Z"
   },
   {
    "duration": 758,
    "start_time": "2024-07-18T10:03:39.692Z"
   },
   {
    "duration": 669,
    "start_time": "2024-07-18T10:03:40.454Z"
   },
   {
    "duration": 0,
    "start_time": "2024-07-18T10:03:41.131Z"
   },
   {
    "duration": 0,
    "start_time": "2024-07-18T10:03:41.133Z"
   },
   {
    "duration": 1,
    "start_time": "2024-07-18T10:03:41.135Z"
   },
   {
    "duration": 0,
    "start_time": "2024-07-18T10:03:41.138Z"
   },
   {
    "duration": 0,
    "start_time": "2024-07-18T10:03:41.140Z"
   },
   {
    "duration": 0,
    "start_time": "2024-07-18T10:03:41.142Z"
   },
   {
    "duration": 0,
    "start_time": "2024-07-18T10:03:41.144Z"
   },
   {
    "duration": 0,
    "start_time": "2024-07-18T10:03:41.146Z"
   },
   {
    "duration": 0,
    "start_time": "2024-07-18T10:03:41.149Z"
   },
   {
    "duration": 0,
    "start_time": "2024-07-18T10:03:41.151Z"
   },
   {
    "duration": 0,
    "start_time": "2024-07-18T10:03:41.154Z"
   },
   {
    "duration": 0,
    "start_time": "2024-07-18T10:03:41.156Z"
   },
   {
    "duration": 6,
    "start_time": "2024-07-18T10:04:56.660Z"
   },
   {
    "duration": 72,
    "start_time": "2024-07-18T10:04:57.162Z"
   },
   {
    "duration": 4,
    "start_time": "2024-07-18T10:08:21.399Z"
   },
   {
    "duration": 1559,
    "start_time": "2024-07-18T10:08:22.426Z"
   },
   {
    "duration": 655,
    "start_time": "2024-07-18T10:08:37.326Z"
   },
   {
    "duration": 43,
    "start_time": "2024-07-18T10:09:11.967Z"
   },
   {
    "duration": 967,
    "start_time": "2024-07-18T10:09:23.164Z"
   },
   {
    "duration": 86,
    "start_time": "2024-07-18T10:09:37.887Z"
   },
   {
    "duration": 654,
    "start_time": "2024-07-18T10:17:19.628Z"
   },
   {
    "duration": 29,
    "start_time": "2024-07-18T10:17:21.215Z"
   },
   {
    "duration": 67,
    "start_time": "2024-07-18T10:17:28.253Z"
   },
   {
    "duration": 68,
    "start_time": "2024-07-18T10:19:18.851Z"
   },
   {
    "duration": 34,
    "start_time": "2024-07-18T10:19:55.430Z"
   },
   {
    "duration": 1008,
    "start_time": "2024-07-18T10:20:03.483Z"
   },
   {
    "duration": 714,
    "start_time": "2024-07-18T10:20:04.495Z"
   },
   {
    "duration": 139,
    "start_time": "2024-07-18T10:20:05.212Z"
   },
   {
    "duration": 676,
    "start_time": "2024-07-18T10:20:05.354Z"
   },
   {
    "duration": 0,
    "start_time": "2024-07-18T10:20:06.034Z"
   },
   {
    "duration": 0,
    "start_time": "2024-07-18T10:20:06.036Z"
   },
   {
    "duration": 0,
    "start_time": "2024-07-18T10:20:06.038Z"
   },
   {
    "duration": 0,
    "start_time": "2024-07-18T10:20:06.040Z"
   },
   {
    "duration": 0,
    "start_time": "2024-07-18T10:20:06.043Z"
   },
   {
    "duration": 0,
    "start_time": "2024-07-18T10:20:06.046Z"
   },
   {
    "duration": 0,
    "start_time": "2024-07-18T10:20:06.048Z"
   },
   {
    "duration": 0,
    "start_time": "2024-07-18T10:20:06.050Z"
   },
   {
    "duration": 0,
    "start_time": "2024-07-18T10:20:06.052Z"
   },
   {
    "duration": 0,
    "start_time": "2024-07-18T10:20:06.054Z"
   },
   {
    "duration": 1,
    "start_time": "2024-07-18T10:20:06.056Z"
   },
   {
    "duration": 0,
    "start_time": "2024-07-18T10:20:06.059Z"
   },
   {
    "duration": 70,
    "start_time": "2024-07-18T10:21:43.503Z"
   },
   {
    "duration": 7,
    "start_time": "2024-07-18T10:22:21.974Z"
   },
   {
    "duration": 4,
    "start_time": "2024-07-18T10:25:14.016Z"
   },
   {
    "duration": 71,
    "start_time": "2024-07-18T10:25:35.318Z"
   },
   {
    "duration": 29,
    "start_time": "2024-07-18T10:25:58.121Z"
   },
   {
    "duration": 68,
    "start_time": "2024-07-18T10:27:08.239Z"
   },
   {
    "duration": 27,
    "start_time": "2024-07-18T10:28:44.251Z"
   },
   {
    "duration": 69,
    "start_time": "2024-07-18T10:28:49.884Z"
   },
   {
    "duration": 46,
    "start_time": "2024-07-18T10:29:59.419Z"
   },
   {
    "duration": 70,
    "start_time": "2024-07-18T10:30:21.250Z"
   },
   {
    "duration": 69,
    "start_time": "2024-07-18T10:31:36.969Z"
   },
   {
    "duration": 47,
    "start_time": "2024-07-18T10:39:21.659Z"
   },
   {
    "duration": 71,
    "start_time": "2024-07-18T10:39:42.132Z"
   },
   {
    "duration": 117,
    "start_time": "2024-07-18T10:39:48.065Z"
   },
   {
    "duration": 83,
    "start_time": "2024-07-18T10:39:54.183Z"
   },
   {
    "duration": 3,
    "start_time": "2024-07-18T10:40:32.160Z"
   },
   {
    "duration": 668,
    "start_time": "2024-07-18T10:40:34.154Z"
   },
   {
    "duration": 51,
    "start_time": "2024-07-18T10:40:35.374Z"
   },
   {
    "duration": 70,
    "start_time": "2024-07-18T10:40:37.411Z"
   },
   {
    "duration": 1073,
    "start_time": "2024-07-18T10:40:39.226Z"
   },
   {
    "duration": 87,
    "start_time": "2024-07-18T10:40:40.302Z"
   },
   {
    "duration": 87,
    "start_time": "2024-07-18T10:40:57.237Z"
   },
   {
    "duration": 85,
    "start_time": "2024-07-18T10:42:15.960Z"
   },
   {
    "duration": 3,
    "start_time": "2024-07-18T10:58:21.045Z"
   },
   {
    "duration": 566,
    "start_time": "2024-07-18T10:58:22.276Z"
   },
   {
    "duration": 620,
    "start_time": "2024-07-18T10:58:32.807Z"
   },
   {
    "duration": 512,
    "start_time": "2024-07-18T10:58:54.414Z"
   },
   {
    "duration": 7,
    "start_time": "2024-07-18T11:00:23.681Z"
   },
   {
    "duration": 562,
    "start_time": "2024-07-18T11:00:31.660Z"
   },
   {
    "duration": 15,
    "start_time": "2024-07-18T11:00:32.225Z"
   },
   {
    "duration": 7,
    "start_time": "2024-07-18T11:08:04.620Z"
   },
   {
    "duration": 85,
    "start_time": "2024-07-18T11:08:48.600Z"
   },
   {
    "duration": 6,
    "start_time": "2024-07-18T11:09:07.720Z"
   },
   {
    "duration": 82,
    "start_time": "2024-07-18T11:13:59.040Z"
   },
   {
    "duration": 114,
    "start_time": "2024-07-18T11:14:35.044Z"
   },
   {
    "duration": 4,
    "start_time": "2024-07-18T11:14:40.545Z"
   },
   {
    "duration": 643,
    "start_time": "2024-07-18T11:14:41.757Z"
   },
   {
    "duration": 97,
    "start_time": "2024-07-18T11:14:43.213Z"
   },
   {
    "duration": 1013,
    "start_time": "2024-07-18T11:16:03.900Z"
   },
   {
    "duration": 609,
    "start_time": "2024-07-18T11:16:04.917Z"
   },
   {
    "duration": 751,
    "start_time": "2024-07-18T11:16:05.528Z"
   },
   {
    "duration": 0,
    "start_time": "2024-07-18T11:16:06.283Z"
   },
   {
    "duration": 0,
    "start_time": "2024-07-18T11:16:06.285Z"
   },
   {
    "duration": 0,
    "start_time": "2024-07-18T11:16:06.287Z"
   },
   {
    "duration": 0,
    "start_time": "2024-07-18T11:16:06.289Z"
   },
   {
    "duration": 0,
    "start_time": "2024-07-18T11:16:06.291Z"
   },
   {
    "duration": 0,
    "start_time": "2024-07-18T11:16:06.292Z"
   },
   {
    "duration": 0,
    "start_time": "2024-07-18T11:16:06.294Z"
   },
   {
    "duration": 0,
    "start_time": "2024-07-18T11:16:06.296Z"
   },
   {
    "duration": 0,
    "start_time": "2024-07-18T11:16:06.298Z"
   },
   {
    "duration": 0,
    "start_time": "2024-07-18T11:16:06.300Z"
   },
   {
    "duration": 0,
    "start_time": "2024-07-18T11:16:06.302Z"
   },
   {
    "duration": 1,
    "start_time": "2024-07-18T11:16:06.332Z"
   },
   {
    "duration": 0,
    "start_time": "2024-07-18T11:16:06.334Z"
   },
   {
    "duration": 26,
    "start_time": "2024-07-18T11:16:40.277Z"
   },
   {
    "duration": 98,
    "start_time": "2024-07-18T11:18:45.795Z"
   },
   {
    "duration": 100,
    "start_time": "2024-07-18T11:21:17.420Z"
   },
   {
    "duration": 4,
    "start_time": "2024-07-18T11:21:21.794Z"
   },
   {
    "duration": 576,
    "start_time": "2024-07-18T11:21:22.768Z"
   },
   {
    "duration": 95,
    "start_time": "2024-07-18T11:21:23.456Z"
   },
   {
    "duration": 102,
    "start_time": "2024-07-18T11:26:07.507Z"
   },
   {
    "duration": 97,
    "start_time": "2024-07-18T11:29:23.956Z"
   },
   {
    "duration": 4,
    "start_time": "2024-07-18T11:29:35.151Z"
   },
   {
    "duration": 546,
    "start_time": "2024-07-18T11:29:36.228Z"
   },
   {
    "duration": 98,
    "start_time": "2024-07-18T11:29:37.722Z"
   },
   {
    "duration": 42,
    "start_time": "2024-07-18T11:32:23.216Z"
   },
   {
    "duration": 5,
    "start_time": "2024-07-18T11:34:16.176Z"
   },
   {
    "duration": 38,
    "start_time": "2024-07-18T11:34:28.003Z"
   },
   {
    "duration": 111,
    "start_time": "2024-07-18T12:03:32.520Z"
   },
   {
    "duration": 84,
    "start_time": "2024-07-18T12:16:40.741Z"
   },
   {
    "duration": 282,
    "start_time": "2024-07-18T12:23:16.130Z"
   },
   {
    "duration": 30,
    "start_time": "2024-07-18T12:23:44.386Z"
   },
   {
    "duration": 27,
    "start_time": "2024-07-18T12:24:48.297Z"
   },
   {
    "duration": 29,
    "start_time": "2024-07-18T12:25:45.052Z"
   },
   {
    "duration": 27,
    "start_time": "2024-07-18T12:28:31.588Z"
   },
   {
    "duration": 28,
    "start_time": "2024-07-18T12:32:35.574Z"
   },
   {
    "duration": 30,
    "start_time": "2024-07-18T12:33:01.013Z"
   },
   {
    "duration": 123,
    "start_time": "2024-07-18T12:33:15.524Z"
   },
   {
    "duration": 90,
    "start_time": "2024-07-18T12:33:32.649Z"
   },
   {
    "duration": 85,
    "start_time": "2024-07-18T12:35:23.249Z"
   },
   {
    "duration": 83,
    "start_time": "2024-07-18T12:37:05.385Z"
   },
   {
    "duration": 85,
    "start_time": "2024-07-18T12:37:31.102Z"
   },
   {
    "duration": 337,
    "start_time": "2024-07-18T23:50:54.599Z"
   },
   {
    "duration": 28,
    "start_time": "2024-07-18T23:50:59.884Z"
   },
   {
    "duration": 1112,
    "start_time": "2024-07-18T23:51:09.434Z"
   },
   {
    "duration": 1508,
    "start_time": "2024-07-18T23:51:10.550Z"
   },
   {
    "duration": 565,
    "start_time": "2024-07-18T23:51:28.991Z"
   },
   {
    "duration": 819,
    "start_time": "2024-07-18T23:55:49.210Z"
   },
   {
    "duration": 67,
    "start_time": "2024-07-18T23:55:59.935Z"
   },
   {
    "duration": 68,
    "start_time": "2024-07-18T23:57:42.748Z"
   },
   {
    "duration": 12,
    "start_time": "2024-07-18T23:58:52.405Z"
   },
   {
    "duration": 16,
    "start_time": "2024-07-18T23:58:59.861Z"
   },
   {
    "duration": 17,
    "start_time": "2024-07-19T00:05:55.108Z"
   },
   {
    "duration": 18,
    "start_time": "2024-07-19T00:07:13.586Z"
   },
   {
    "duration": 20,
    "start_time": "2024-07-19T00:08:33.261Z"
   },
   {
    "duration": 86,
    "start_time": "2024-07-19T00:17:14.620Z"
   },
   {
    "duration": 1088,
    "start_time": "2024-07-19T00:19:43.913Z"
   },
   {
    "duration": 608,
    "start_time": "2024-07-19T00:19:45.006Z"
   },
   {
    "duration": 95,
    "start_time": "2024-07-19T00:19:45.618Z"
   },
   {
    "duration": 16,
    "start_time": "2024-07-19T00:19:45.717Z"
   },
   {
    "duration": 20,
    "start_time": "2024-07-19T00:19:45.739Z"
   },
   {
    "duration": 18,
    "start_time": "2024-07-19T00:19:45.801Z"
   },
   {
    "duration": 1318,
    "start_time": "2024-07-19T00:19:45.823Z"
   },
   {
    "duration": 0,
    "start_time": "2024-07-19T00:19:47.146Z"
   },
   {
    "duration": 0,
    "start_time": "2024-07-19T00:19:47.148Z"
   },
   {
    "duration": 0,
    "start_time": "2024-07-19T00:19:47.150Z"
   },
   {
    "duration": 0,
    "start_time": "2024-07-19T00:19:47.153Z"
   },
   {
    "duration": 30,
    "start_time": "2024-07-19T00:24:51.163Z"
   },
   {
    "duration": 1054,
    "start_time": "2024-07-19T00:24:56.444Z"
   },
   {
    "duration": 666,
    "start_time": "2024-07-19T00:24:57.504Z"
   },
   {
    "duration": 107,
    "start_time": "2024-07-19T00:24:58.174Z"
   },
   {
    "duration": 21,
    "start_time": "2024-07-19T00:24:58.301Z"
   },
   {
    "duration": 23,
    "start_time": "2024-07-19T00:24:58.326Z"
   },
   {
    "duration": 62,
    "start_time": "2024-07-19T00:24:58.353Z"
   },
   {
    "duration": 1319,
    "start_time": "2024-07-19T00:24:58.418Z"
   },
   {
    "duration": 0,
    "start_time": "2024-07-19T00:24:59.740Z"
   },
   {
    "duration": 0,
    "start_time": "2024-07-19T00:24:59.743Z"
   },
   {
    "duration": 0,
    "start_time": "2024-07-19T00:24:59.748Z"
   },
   {
    "duration": 14,
    "start_time": "2024-07-19T00:27:15.331Z"
   },
   {
    "duration": 28,
    "start_time": "2024-07-19T00:27:32.306Z"
   },
   {
    "duration": 19,
    "start_time": "2024-07-19T00:27:43.873Z"
   },
   {
    "duration": 89,
    "start_time": "2024-07-19T00:28:34.353Z"
   },
   {
    "duration": 585,
    "start_time": "2024-07-19T00:30:06.193Z"
   },
   {
    "duration": 624,
    "start_time": "2024-07-19T00:31:22.353Z"
   },
   {
    "duration": 535,
    "start_time": "2024-07-19T00:32:20.118Z"
   },
   {
    "duration": 11,
    "start_time": "2024-07-19T00:32:50.951Z"
   },
   {
    "duration": 13,
    "start_time": "2024-07-19T00:32:57.640Z"
   },
   {
    "duration": 86,
    "start_time": "2024-07-19T00:33:50.601Z"
   },
   {
    "duration": 740,
    "start_time": "2024-07-19T00:34:14.258Z"
   },
   {
    "duration": 95,
    "start_time": "2024-07-19T00:34:21.690Z"
   },
   {
    "duration": 232,
    "start_time": "2024-07-19T00:38:27.969Z"
   },
   {
    "duration": 300,
    "start_time": "2024-07-19T00:41:25.085Z"
   },
   {
    "duration": 103,
    "start_time": "2024-07-19T00:44:38.218Z"
   },
   {
    "duration": 1120,
    "start_time": "2024-07-19T00:44:44.543Z"
   },
   {
    "duration": 684,
    "start_time": "2024-07-19T00:44:45.666Z"
   },
   {
    "duration": 114,
    "start_time": "2024-07-19T00:44:46.353Z"
   },
   {
    "duration": 49,
    "start_time": "2024-07-19T00:44:46.472Z"
   },
   {
    "duration": 26,
    "start_time": "2024-07-19T00:44:46.525Z"
   },
   {
    "duration": 58,
    "start_time": "2024-07-19T00:44:46.555Z"
   },
   {
    "duration": 22,
    "start_time": "2024-07-19T00:44:46.617Z"
   },
   {
    "duration": 16,
    "start_time": "2024-07-19T00:44:46.643Z"
   },
   {
    "duration": 1172,
    "start_time": "2024-07-19T00:44:46.663Z"
   },
   {
    "duration": 0,
    "start_time": "2024-07-19T00:44:47.839Z"
   },
   {
    "duration": 0,
    "start_time": "2024-07-19T00:44:47.841Z"
   },
   {
    "duration": 97,
    "start_time": "2024-07-19T00:46:20.375Z"
   },
   {
    "duration": 32,
    "start_time": "2024-07-19T00:48:03.540Z"
   },
   {
    "duration": 45,
    "start_time": "2024-07-19T00:48:16.590Z"
   },
   {
    "duration": 40,
    "start_time": "2024-07-19T00:48:43.527Z"
   },
   {
    "duration": 6,
    "start_time": "2024-07-19T00:49:18.177Z"
   },
   {
    "duration": 559,
    "start_time": "2024-07-19T00:49:20.146Z"
   },
   {
    "duration": 82,
    "start_time": "2024-07-19T00:49:21.796Z"
   },
   {
    "duration": 20,
    "start_time": "2024-07-19T00:49:22.728Z"
   },
   {
    "duration": 24,
    "start_time": "2024-07-19T00:49:23.722Z"
   },
   {
    "duration": 19,
    "start_time": "2024-07-19T00:49:24.688Z"
   },
   {
    "duration": 23,
    "start_time": "2024-07-19T00:49:25.739Z"
   },
   {
    "duration": 15,
    "start_time": "2024-07-19T00:49:27.054Z"
   },
   {
    "duration": 54,
    "start_time": "2024-07-19T00:49:28.313Z"
   },
   {
    "duration": 11,
    "start_time": "2024-07-19T00:49:29.738Z"
   },
   {
    "duration": 49,
    "start_time": "2024-07-19T00:57:44.030Z"
   },
   {
    "duration": 5231,
    "start_time": "2024-07-19T00:58:21.456Z"
   },
   {
    "duration": 631,
    "start_time": "2024-07-19T00:58:26.702Z"
   },
   {
    "duration": 96,
    "start_time": "2024-07-19T00:58:27.336Z"
   },
   {
    "duration": 20,
    "start_time": "2024-07-19T00:58:27.436Z"
   },
   {
    "duration": 57,
    "start_time": "2024-07-19T00:58:27.459Z"
   },
   {
    "duration": 20,
    "start_time": "2024-07-19T00:58:27.519Z"
   },
   {
    "duration": 60,
    "start_time": "2024-07-19T00:58:27.542Z"
   },
   {
    "duration": 19,
    "start_time": "2024-07-19T00:58:27.605Z"
   },
   {
    "duration": 79,
    "start_time": "2024-07-19T00:58:27.627Z"
   },
   {
    "duration": 11,
    "start_time": "2024-07-19T00:58:27.711Z"
   },
   {
    "duration": 2949,
    "start_time": "2024-07-19T00:58:27.726Z"
   },
   {
    "duration": 12,
    "start_time": "2024-07-19T00:59:41.782Z"
   },
   {
    "duration": 71,
    "start_time": "2024-07-19T01:02:08.953Z"
   },
   {
    "duration": 68,
    "start_time": "2024-07-19T01:02:43.037Z"
   },
   {
    "duration": 2738,
    "start_time": "2024-07-19T01:02:53.715Z"
   },
   {
    "duration": 16,
    "start_time": "2024-07-19T01:07:13.232Z"
   },
   {
    "duration": 24,
    "start_time": "2024-07-19T01:09:23.321Z"
   },
   {
    "duration": 1570,
    "start_time": "2024-07-19T01:12:51.646Z"
   },
   {
    "duration": 606,
    "start_time": "2024-07-19T01:12:53.220Z"
   },
   {
    "duration": 210,
    "start_time": "2024-07-19T01:12:53.829Z"
   },
   {
    "duration": 23,
    "start_time": "2024-07-19T01:12:54.050Z"
   },
   {
    "duration": 39,
    "start_time": "2024-07-19T01:12:54.078Z"
   },
   {
    "duration": 30,
    "start_time": "2024-07-19T01:12:54.123Z"
   },
   {
    "duration": 48,
    "start_time": "2024-07-19T01:12:54.156Z"
   },
   {
    "duration": 21,
    "start_time": "2024-07-19T01:12:54.207Z"
   },
   {
    "duration": 78,
    "start_time": "2024-07-19T01:12:54.232Z"
   },
   {
    "duration": 13,
    "start_time": "2024-07-19T01:12:54.324Z"
   },
   {
    "duration": 135,
    "start_time": "2024-07-19T01:12:54.340Z"
   },
   {
    "duration": 16,
    "start_time": "2024-07-19T01:12:54.478Z"
   },
   {
    "duration": 2912,
    "start_time": "2024-07-19T01:12:54.498Z"
   },
   {
    "duration": 468,
    "start_time": "2024-07-19T01:12:57.414Z"
   },
   {
    "duration": 28,
    "start_time": "2024-07-19T01:12:57.885Z"
   },
   {
    "duration": 20,
    "start_time": "2024-07-19T01:12:57.916Z"
   },
   {
    "duration": 586,
    "start_time": "2024-07-19T01:20:08.685Z"
   },
   {
    "duration": 1425,
    "start_time": "2024-07-19T01:37:11.568Z"
   },
   {
    "duration": 582,
    "start_time": "2024-07-19T01:37:13.002Z"
   },
   {
    "duration": 184,
    "start_time": "2024-07-19T01:37:13.589Z"
   },
   {
    "duration": 40,
    "start_time": "2024-07-19T01:37:13.778Z"
   },
   {
    "duration": 21,
    "start_time": "2024-07-19T01:37:13.822Z"
   },
   {
    "duration": 64,
    "start_time": "2024-07-19T01:37:13.846Z"
   },
   {
    "duration": 27,
    "start_time": "2024-07-19T01:37:13.913Z"
   },
   {
    "duration": 18,
    "start_time": "2024-07-19T01:37:13.944Z"
   },
   {
    "duration": 84,
    "start_time": "2024-07-19T01:37:13.966Z"
   },
   {
    "duration": 46,
    "start_time": "2024-07-19T01:37:14.057Z"
   },
   {
    "duration": 101,
    "start_time": "2024-07-19T01:37:14.107Z"
   },
   {
    "duration": 20,
    "start_time": "2024-07-19T01:37:14.212Z"
   },
   {
    "duration": 2471,
    "start_time": "2024-07-19T01:37:14.236Z"
   },
   {
    "duration": 482,
    "start_time": "2024-07-19T01:37:16.710Z"
   },
   {
    "duration": 14,
    "start_time": "2024-07-19T01:37:17.203Z"
   },
   {
    "duration": 15,
    "start_time": "2024-07-19T01:37:17.222Z"
   },
   {
    "duration": 1477,
    "start_time": "2024-07-19T01:40:04.500Z"
   },
   {
    "duration": 627,
    "start_time": "2024-07-19T01:40:05.981Z"
   },
   {
    "duration": 164,
    "start_time": "2024-07-19T01:40:06.612Z"
   },
   {
    "duration": 21,
    "start_time": "2024-07-19T01:40:06.801Z"
   },
   {
    "duration": 23,
    "start_time": "2024-07-19T01:40:06.826Z"
   },
   {
    "duration": 49,
    "start_time": "2024-07-19T01:40:06.852Z"
   },
   {
    "duration": 22,
    "start_time": "2024-07-19T01:40:06.904Z"
   },
   {
    "duration": 18,
    "start_time": "2024-07-19T01:40:06.930Z"
   },
   {
    "duration": 86,
    "start_time": "2024-07-19T01:40:06.951Z"
   },
   {
    "duration": 11,
    "start_time": "2024-07-19T01:40:07.042Z"
   },
   {
    "duration": 98,
    "start_time": "2024-07-19T01:40:07.056Z"
   },
   {
    "duration": 53,
    "start_time": "2024-07-19T01:40:07.158Z"
   },
   {
    "duration": 2560,
    "start_time": "2024-07-19T01:40:07.218Z"
   },
   {
    "duration": 454,
    "start_time": "2024-07-19T01:40:09.781Z"
   },
   {
    "duration": 12,
    "start_time": "2024-07-19T01:40:10.239Z"
   },
   {
    "duration": 13,
    "start_time": "2024-07-19T01:40:10.255Z"
   },
   {
    "duration": 1492,
    "start_time": "2024-07-19T01:41:16.143Z"
   },
   {
    "duration": 698,
    "start_time": "2024-07-19T01:41:17.639Z"
   },
   {
    "duration": 183,
    "start_time": "2024-07-19T01:41:18.341Z"
   },
   {
    "duration": 19,
    "start_time": "2024-07-19T01:41:18.527Z"
   },
   {
    "duration": 54,
    "start_time": "2024-07-19T01:41:18.553Z"
   },
   {
    "duration": 31,
    "start_time": "2024-07-19T01:41:18.610Z"
   },
   {
    "duration": 59,
    "start_time": "2024-07-19T01:41:18.645Z"
   },
   {
    "duration": 18,
    "start_time": "2024-07-19T01:41:18.707Z"
   },
   {
    "duration": 40,
    "start_time": "2024-07-19T01:41:18.728Z"
   },
   {
    "duration": 15,
    "start_time": "2024-07-19T01:41:18.802Z"
   },
   {
    "duration": 93,
    "start_time": "2024-07-19T01:41:18.820Z"
   },
   {
    "duration": 14,
    "start_time": "2024-07-19T01:41:18.917Z"
   },
   {
    "duration": 2459,
    "start_time": "2024-07-19T01:41:18.935Z"
   },
   {
    "duration": 478,
    "start_time": "2024-07-19T01:41:21.401Z"
   },
   {
    "duration": 24,
    "start_time": "2024-07-19T01:41:21.883Z"
   },
   {
    "duration": 14,
    "start_time": "2024-07-19T01:41:21.911Z"
   },
   {
    "duration": 4977,
    "start_time": "2024-07-19T04:51:12.299Z"
   },
   {
    "duration": 571,
    "start_time": "2024-07-19T04:51:17.280Z"
   },
   {
    "duration": 1137,
    "start_time": "2024-07-19T04:51:17.854Z"
   },
   {
    "duration": 0,
    "start_time": "2024-07-19T04:51:18.994Z"
   },
   {
    "duration": 0,
    "start_time": "2024-07-19T04:51:18.997Z"
   },
   {
    "duration": 0,
    "start_time": "2024-07-19T04:51:18.999Z"
   },
   {
    "duration": 0,
    "start_time": "2024-07-19T04:51:19.002Z"
   },
   {
    "duration": 0,
    "start_time": "2024-07-19T04:51:19.004Z"
   },
   {
    "duration": 0,
    "start_time": "2024-07-19T04:51:19.006Z"
   },
   {
    "duration": 0,
    "start_time": "2024-07-19T04:51:19.031Z"
   },
   {
    "duration": 0,
    "start_time": "2024-07-19T04:51:19.033Z"
   },
   {
    "duration": 0,
    "start_time": "2024-07-19T04:51:19.034Z"
   },
   {
    "duration": 0,
    "start_time": "2024-07-19T04:51:19.036Z"
   },
   {
    "duration": 0,
    "start_time": "2024-07-19T04:51:19.038Z"
   },
   {
    "duration": 0,
    "start_time": "2024-07-19T04:51:19.040Z"
   },
   {
    "duration": 0,
    "start_time": "2024-07-19T04:51:19.042Z"
   },
   {
    "duration": 325,
    "start_time": "2024-07-20T05:04:29.676Z"
   },
   {
    "duration": 5207,
    "start_time": "2024-07-20T05:04:37.892Z"
   },
   {
    "duration": 653,
    "start_time": "2024-07-20T05:04:43.103Z"
   },
   {
    "duration": 96,
    "start_time": "2024-07-20T05:04:43.760Z"
   },
   {
    "duration": 17,
    "start_time": "2024-07-20T05:04:43.860Z"
   },
   {
    "duration": 56,
    "start_time": "2024-07-20T05:04:43.883Z"
   },
   {
    "duration": 19,
    "start_time": "2024-07-20T05:04:43.944Z"
   },
   {
    "duration": 20,
    "start_time": "2024-07-20T05:04:43.966Z"
   },
   {
    "duration": 51,
    "start_time": "2024-07-20T05:04:43.989Z"
   },
   {
    "duration": 39,
    "start_time": "2024-07-20T05:04:44.043Z"
   },
   {
    "duration": 11,
    "start_time": "2024-07-20T05:04:44.085Z"
   },
   {
    "duration": 60,
    "start_time": "2024-07-20T05:04:44.132Z"
   },
   {
    "duration": 17,
    "start_time": "2024-07-20T05:04:44.229Z"
   },
   {
    "duration": 2269,
    "start_time": "2024-07-20T05:04:44.250Z"
   },
   {
    "duration": 406,
    "start_time": "2024-07-20T05:04:46.524Z"
   },
   {
    "duration": 12,
    "start_time": "2024-07-20T05:04:46.933Z"
   },
   {
    "duration": 17,
    "start_time": "2024-07-20T05:04:46.948Z"
   },
   {
    "duration": 1391,
    "start_time": "2024-07-20T05:14:27.303Z"
   },
   {
    "duration": 24,
    "start_time": "2024-07-20T05:15:36.538Z"
   },
   {
    "duration": 76,
    "start_time": "2024-07-20T05:17:29.353Z"
   },
   {
    "duration": 96,
    "start_time": "2024-07-20T05:17:54.136Z"
   },
   {
    "duration": 18,
    "start_time": "2024-07-20T05:21:27.727Z"
   },
   {
    "duration": 1321,
    "start_time": "2024-07-20T05:23:15.011Z"
   },
   {
    "duration": 108,
    "start_time": "2024-07-20T05:23:16.337Z"
   },
   {
    "duration": 645,
    "start_time": "2024-07-20T05:23:16.448Z"
   },
   {
    "duration": 38,
    "start_time": "2024-07-20T05:23:17.097Z"
   },
   {
    "duration": 15,
    "start_time": "2024-07-20T05:23:17.141Z"
   },
   {
    "duration": 2205,
    "start_time": "2024-07-20T05:23:17.162Z"
   },
   {
    "duration": 452,
    "start_time": "2024-07-20T05:23:19.370Z"
   },
   {
    "duration": 14,
    "start_time": "2024-07-20T05:23:19.826Z"
   },
   {
    "duration": 1039,
    "start_time": "2024-07-20T05:23:19.843Z"
   },
   {
    "duration": 28,
    "start_time": "2024-07-20T05:25:29.199Z"
   },
   {
    "duration": 68,
    "start_time": "2024-07-20T05:25:37.795Z"
   },
   {
    "duration": 20,
    "start_time": "2024-07-20T05:25:52.832Z"
   },
   {
    "duration": 1307,
    "start_time": "2024-07-20T05:26:10.272Z"
   },
   {
    "duration": 31,
    "start_time": "2024-07-20T05:26:11.584Z"
   },
   {
    "duration": 116,
    "start_time": "2024-07-20T05:26:11.618Z"
   },
   {
    "duration": 645,
    "start_time": "2024-07-20T05:26:11.737Z"
   },
   {
    "duration": 18,
    "start_time": "2024-07-20T05:26:12.387Z"
   },
   {
    "duration": 29,
    "start_time": "2024-07-20T05:26:12.408Z"
   },
   {
    "duration": 2195,
    "start_time": "2024-07-20T05:26:12.440Z"
   },
   {
    "duration": 464,
    "start_time": "2024-07-20T05:26:14.638Z"
   },
   {
    "duration": 12,
    "start_time": "2024-07-20T05:26:15.106Z"
   },
   {
    "duration": 1005,
    "start_time": "2024-07-20T05:26:15.133Z"
   },
   {
    "duration": 22,
    "start_time": "2024-07-20T05:27:39.533Z"
   },
   {
    "duration": 1322,
    "start_time": "2024-07-20T05:29:35.072Z"
   },
   {
    "duration": 32,
    "start_time": "2024-07-20T05:29:36.398Z"
   },
   {
    "duration": 111,
    "start_time": "2024-07-20T05:29:36.433Z"
   },
   {
    "duration": 619,
    "start_time": "2024-07-20T05:29:36.547Z"
   },
   {
    "duration": 18,
    "start_time": "2024-07-20T05:29:37.169Z"
   },
   {
    "duration": 41,
    "start_time": "2024-07-20T05:29:37.190Z"
   },
   {
    "duration": 2225,
    "start_time": "2024-07-20T05:29:37.234Z"
   },
   {
    "duration": 444,
    "start_time": "2024-07-20T05:29:39.462Z"
   },
   {
    "duration": 24,
    "start_time": "2024-07-20T05:29:39.908Z"
   },
   {
    "duration": 16,
    "start_time": "2024-07-20T05:29:39.938Z"
   },
   {
    "duration": 6,
    "start_time": "2024-07-20T05:30:07.841Z"
   },
   {
    "duration": 1355,
    "start_time": "2024-07-20T05:30:11.944Z"
   },
   {
    "duration": 36,
    "start_time": "2024-07-20T05:30:13.304Z"
   },
   {
    "duration": 98,
    "start_time": "2024-07-20T05:30:13.343Z"
   },
   {
    "duration": 621,
    "start_time": "2024-07-20T05:30:13.444Z"
   },
   {
    "duration": 27,
    "start_time": "2024-07-20T05:30:14.072Z"
   },
   {
    "duration": 32,
    "start_time": "2024-07-20T05:30:14.102Z"
   },
   {
    "duration": 2213,
    "start_time": "2024-07-20T05:30:14.138Z"
   },
   {
    "duration": 458,
    "start_time": "2024-07-20T05:30:16.355Z"
   },
   {
    "duration": 16,
    "start_time": "2024-07-20T05:30:16.817Z"
   },
   {
    "duration": 18,
    "start_time": "2024-07-20T05:30:16.837Z"
   },
   {
    "duration": 1455,
    "start_time": "2024-07-20T16:22:57.377Z"
   },
   {
    "duration": 38,
    "start_time": "2024-07-20T16:22:58.835Z"
   },
   {
    "duration": 67,
    "start_time": "2024-07-20T16:22:58.876Z"
   },
   {
    "duration": 630,
    "start_time": "2024-07-20T16:22:58.947Z"
   },
   {
    "duration": 37,
    "start_time": "2024-07-20T16:22:59.580Z"
   },
   {
    "duration": 15,
    "start_time": "2024-07-20T16:22:59.620Z"
   },
   {
    "duration": 2178,
    "start_time": "2024-07-20T16:22:59.639Z"
   },
   {
    "duration": 439,
    "start_time": "2024-07-20T16:23:01.820Z"
   },
   {
    "duration": 10,
    "start_time": "2024-07-20T16:23:02.263Z"
   },
   {
    "duration": 43,
    "start_time": "2024-07-20T16:23:02.277Z"
   }
  ],
  "kernelspec": {
   "display_name": "Python 3 (ipykernel)",
   "language": "python",
   "name": "python3"
  },
  "language_info": {
   "codemirror_mode": {
    "name": "ipython",
    "version": 3
   },
   "file_extension": ".py",
   "mimetype": "text/x-python",
   "name": "python",
   "nbconvert_exporter": "python",
   "pygments_lexer": "ipython3",
   "version": "3.9.19"
  },
  "toc": {
   "base_numbering": 1,
   "nav_menu": {},
   "number_sections": true,
   "sideBar": true,
   "skip_h1_title": true,
   "title_cell": "Table of Contents",
   "title_sidebar": "Contents",
   "toc_cell": false,
   "toc_position": {},
   "toc_section_display": true,
   "toc_window_display": false
  }
 },
 "nbformat": 4,
 "nbformat_minor": 2
}
